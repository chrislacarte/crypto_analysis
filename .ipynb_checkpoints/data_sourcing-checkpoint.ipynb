{
 "cells": [
  {
   "cell_type": "code",
   "execution_count": 1,
   "id": "6b740844",
   "metadata": {},
   "outputs": [],
   "source": [
    "import requests\n",
    "import pandas as pd\n",
    "import numpy as np\n",
    "import time \n",
    "import json\n",
    "import os\n",
    "from datetime import datetime, timedelta\n",
    "\n"
   ]
  },
  {
   "cell_type": "markdown",
   "id": "b145ce74",
   "metadata": {},
   "source": [
    "# REQUEST AND CLEAN API "
   ]
  },
  {
   "cell_type": "code",
   "execution_count": null,
   "id": "ee236789",
   "metadata": {},
   "outputs": [],
   "source": [
    "# API requests: \n",
    "btc = requests.get(\"https://api.cryptowat.ch/markets/kraken/btcusd/ohlc?periods=86400&apikey=XVGSK3GTQSR4WA9W8XY7\")"
   ]
  },
  {
   "cell_type": "code",
   "execution_count": null,
   "id": "25d56239",
   "metadata": {},
   "outputs": [],
   "source": [
    "#Jsonize\n",
    "btc = btc.json()"
   ]
  },
  {
   "cell_type": "code",
   "execution_count": null,
   "id": "ca34a12c",
   "metadata": {},
   "outputs": [],
   "source": [
    "btc['result']['86400']"
   ]
  },
  {
   "cell_type": "code",
   "execution_count": null,
   "id": "fb07011d",
   "metadata": {},
   "outputs": [],
   "source": [
    "# Convert jsonized lists to DF \n",
    "btc = pd.DataFrame(btc['result']['86400'])"
   ]
  },
  {
   "cell_type": "code",
   "execution_count": null,
   "id": "67481397",
   "metadata": {},
   "outputs": [],
   "source": [
    "# Rename DF columns \n",
    "btc.columns = ['date', 'open_price', 'hi_price', 'lo_price', 'close_price', 'vol', 'quote_vol']"
   ]
  },
  {
   "cell_type": "code",
   "execution_count": null,
   "id": "1afb5fbd",
   "metadata": {},
   "outputs": [],
   "source": [
    "# Select only date and closing value \n",
    "btc = btc[['date','close_price']]"
   ]
  },
  {
   "cell_type": "code",
   "execution_count": null,
   "id": "cfb3242e",
   "metadata": {},
   "outputs": [],
   "source": [
    "# Convert Epoch time (secs since 1970) into datetime object\n",
    "btc['date'] = pd.to_datetime(btc['date'], unit='s')"
   ]
  },
  {
   "cell_type": "code",
   "execution_count": null,
   "id": "cd0f42a3",
   "metadata": {},
   "outputs": [],
   "source": [
    "#Select date range from 2016 - 2021\n",
    "BTC = (btc.loc[btc[\"date\"].between(\"2016-01-01\", \"2021-12-31\")]).reset_index(drop=True)"
   ]
  },
  {
   "cell_type": "markdown",
   "id": "0f4b52af",
   "metadata": {},
   "source": [
    "# CLEAN API DATA FUNCTION"
   ]
  },
  {
   "cell_type": "code",
   "execution_count": null,
   "id": "0fb96868",
   "metadata": {},
   "outputs": [],
   "source": [
    "def clean_api_request(req): #Inouts a cryptowatch API request\n",
    "    req = req.json()\n",
    "    # Convert jsonized lists to DF \n",
    "    req = pd.DataFrame(req['result']['86400'])\n",
    "    # Rename DF columns \n",
    "    req.columns = ['date', 'open_price', 'hi_price', 'lo_price', 'close_price', 'vol', 'quote_vol']\n",
    "    # Select only date and closing value \n",
    "    req = req[['date','close_price']]\n",
    "    # Convert Epoch time (secs since 1970) into datetime object\n",
    "    req['date'] = pd.to_datetime(req['date'], unit='s')\n",
    "    #Select date range from 2016 - 2021\n",
    "    req = (req.loc[req[\"date\"].between(\"2016-01-01\", \"2021-12-31\")]).reset_index(drop=True)\n",
    "    return req # returns a DF with date and daily close cryptocurrency price for every request"
   ]
  },
  {
   "cell_type": "markdown",
   "id": "c02458bc",
   "metadata": {},
   "source": [
    "# COMODITIES "
   ]
  },
  {
   "cell_type": "code",
   "execution_count": 184,
   "id": "fed469f8",
   "metadata": {},
   "outputs": [],
   "source": [
    "import pandas as pd \n",
    "OIL_BRENT = pd.read_csv(\"../data/brent-crude-oil-prices-16-21.csv\")\n",
    "OIL_WTI = pd.read_csv(\"../data/WTI_oil_prices_16-21.csv\")\n",
    "GOLD = pd.read_csv(\"../data/gold_prices_16-21.csv\")\n",
    "SILVER = pd.read_csv(\"../data/silver_prices_16-21.csv\")\n",
    "STEEL = pd.read_csv(\"../data/Steel_prices_16-21.csv\")\n",
    "# COAL = pd.read_csv(\"../data/Coal_p_16-21.csv\")"
   ]
  },
  {
   "cell_type": "code",
   "execution_count": 192,
   "id": "40e77895",
   "metadata": {},
   "outputs": [],
   "source": [
    "com_list = [OIL_WTI, OIL_BRENT, GOLD, SILVER,STEEL]  # List of dataframes"
   ]
  },
  {
   "cell_type": "code",
   "execution_count": 193,
   "id": "c4a0615a",
   "metadata": {},
   "outputs": [],
   "source": [
    "# We convert the date coliumn into the index to compare later with other DF \n",
    "OIL_WTI = OIL_WTI.set_index('date')\n",
    "OIL_BRENT = OIL_BRENT.set_index('date')\n",
    "GOLD = GOLD.set_index('date')\n",
    "SILVER = SILVER.set_index('date')\n",
    "STEEL = STEEL.set_index('date')"
   ]
  },
  {
   "cell_type": "code",
   "execution_count": 197,
   "id": "665c8517",
   "metadata": {},
   "outputs": [],
   "source": [
    "# Merging DF\n",
    "merge=pd.merge(OIL_WTI,OIL_BRENT, how='inner', left_index=True, right_index=True)\n",
    "merge_2 = pd.merge(merge,GOLD, how='inner', left_index=True, right_index=True)\n",
    "merge_3 = pd.merge(merge_2,SILVER, how='inner', left_index=True, right_index=True)\n",
    "comm_df = pd.merge(merge_3,STEEL, how='inner', left_index=True, right_index=True)"
   ]
  },
  {
   "cell_type": "markdown",
   "id": "790c2a96",
   "metadata": {},
   "source": [
    "# CURRENCIES (£-USD, EURO-USD, USD-Yuan, USD-yen)"
   ]
  },
  {
   "cell_type": "code",
   "execution_count": 209,
   "id": "89928d0a",
   "metadata": {},
   "outputs": [],
   "source": [
    "import pandas as pd \n",
    "gbp = pd.read_csv(\"../data/USD_GBP_16-21.csv\")\n",
    "eur = pd.read_csv(\"../data/USD_EUR_16-21.csv\")\n",
    "yua = pd.read_csv(\"../data/USD_CNY_16-21.csv\")\n",
    "yen = pd.read_csv(\"../data/USD_JPY_16-21.csv\")"
   ]
  },
  {
   "cell_type": "code",
   "execution_count": 210,
   "id": "1dd0592f",
   "metadata": {},
   "outputs": [],
   "source": [
    "gbp['date'] = pd.to_datetime(gbp['date'])\n",
    "gbp['date'] = gbp['date'].dt.strftime('%d/%m/%Y')\n",
    "eur['date'] = pd.to_datetime(eur['date'])\n",
    "eur['date'] = eur['date'].dt.strftime('%d/%m/%Y')\n",
    "yua['date'] = pd.to_datetime(yua['date'])\n",
    "yua['date'] = yua['date'].dt.strftime('%d/%m/%Y')\n",
    "yen['date'] = pd.to_datetime(yen['date'])\n",
    "yen['date'] = yen['date'].dt.strftime('%d/%m/%Y')"
   ]
  },
  {
   "cell_type": "code",
   "execution_count": 211,
   "id": "52c6232a",
   "metadata": {},
   "outputs": [],
   "source": [
    "gbp = gbp.set_index('date')\n",
    "eur = eur.set_index('date')\n",
    "yua = yua.set_index('date')\n",
    "yen = yen.set_index('date')"
   ]
  },
  {
   "cell_type": "code",
   "execution_count": 212,
   "id": "f5dffa02",
   "metadata": {},
   "outputs": [],
   "source": [
    "currencies = [gbp,eur,yua,yen]"
   ]
  },
  {
   "cell_type": "code",
   "execution_count": 213,
   "id": "bd2a0cd8",
   "metadata": {},
   "outputs": [],
   "source": [
    "curr_df = pd.concat(currencies,axis=1,join=\"inner\",ignore_index=False,sort=False, copy=False) "
   ]
  },
  {
   "cell_type": "markdown",
   "id": "98fabc21",
   "metadata": {},
   "source": [
    "# CURRENCIES AND COMM concat "
   ]
  },
  {
   "cell_type": "markdown",
   "id": "2dfc9bd5",
   "metadata": {},
   "source": [
    "In order to have the same rows and dates to compare"
   ]
  },
  {
   "cell_type": "code",
   "execution_count": 217,
   "id": "c4fde770",
   "metadata": {},
   "outputs": [],
   "source": [
    "main_df = pd.merge(curr_df,comm_df,how=\"inner\",on='date')"
   ]
  },
  {
   "cell_type": "markdown",
   "id": "bdbb40dc",
   "metadata": {},
   "source": [
    "# INTEREST RATE INDEXES "
   ]
  },
  {
   "cell_type": "code",
   "execution_count": 250,
   "id": "42ffe995",
   "metadata": {},
   "outputs": [],
   "source": [
    "import pandas as pd \n",
    "libor = pd.read_csv(\"../data/LIBOR_16-21.csv\")\n",
    "eonia = pd.read_csv(\"../data/eonia_16-21.csv\")\n",
    "fed = pd.read_csv(\"../data/fed-funds-rate-16-21.csv\")\n",
    "# Create a list of indexes to concat, ast hey have the smae days of cotization)\n",
    "interest_list = [libor, eonia,fed]"
   ]
  },
  {
   "cell_type": "code",
   "execution_count": 251,
   "id": "e044e98c",
   "metadata": {},
   "outputs": [],
   "source": [
    "# convert date columun to datetime object and set it as index \n",
    "libor['date'] = pd.to_datetime(libor['date'])\n",
    "libor['date'] = libor['date'].dt.strftime('%d/%m/%Y')\n",
    "libor = libor.set_index('date')\n",
    "\n",
    "eonia['date'] = pd.to_datetime(eonia['date'])\n",
    "eonia['date'] = eonia['date'].dt.strftime('%d/%m/%Y')\n",
    "eonia = eonia.set_index('date')\n",
    "\n",
    "fed['date'] = pd.to_datetime(fed['date'])\n",
    "fed['date'] = fed['date'].dt.strftime('%d/%m/%Y')\n",
    "fed = fed.set_index('date')"
   ]
  },
  {
   "cell_type": "code",
   "execution_count": 253,
   "id": "97a65a50",
   "metadata": {},
   "outputs": [],
   "source": [
    "rates_1 =  pd.merge(libor,eonia,how=\"inner\",on='date')"
   ]
  },
  {
   "cell_type": "code",
   "execution_count": 254,
   "id": "51969773",
   "metadata": {},
   "outputs": [],
   "source": [
    "rates =  pd.merge(rates_1,fed,how=\"inner\",on='date')"
   ]
  },
  {
   "cell_type": "markdown",
   "id": "079df2c5",
   "metadata": {},
   "source": [
    "# Merge rates with main DF "
   ]
  },
  {
   "cell_type": "code",
   "execution_count": 257,
   "id": "1d826d53",
   "metadata": {},
   "outputs": [],
   "source": [
    "main_=  pd.merge(main_df,rates,how=\"inner\",on='date')"
   ]
  },
  {
   "cell_type": "code",
   "execution_count": 258,
   "id": "d2aee675",
   "metadata": {},
   "outputs": [
    {
     "data": {
      "text/html": [
       "<div>\n",
       "<style scoped>\n",
       "    .dataframe tbody tr th:only-of-type {\n",
       "        vertical-align: middle;\n",
       "    }\n",
       "\n",
       "    .dataframe tbody tr th {\n",
       "        vertical-align: top;\n",
       "    }\n",
       "\n",
       "    .dataframe thead th {\n",
       "        text-align: right;\n",
       "    }\n",
       "</style>\n",
       "<table border=\"1\" class=\"dataframe\">\n",
       "  <thead>\n",
       "    <tr style=\"text-align: right;\">\n",
       "      <th></th>\n",
       "      <th>usd_gbp</th>\n",
       "      <th>usd_gbp_ %</th>\n",
       "      <th>usd_eur</th>\n",
       "      <th>usd_eur_%</th>\n",
       "      <th>usd_yuan</th>\n",
       "      <th>usd_yuan_%</th>\n",
       "      <th>usd_yen</th>\n",
       "      <th>usd_yen_ %</th>\n",
       "      <th>wti_oil_pprice</th>\n",
       "      <th>brent_oil_p</th>\n",
       "      <th>gold_p</th>\n",
       "      <th>silver_p</th>\n",
       "      <th>steel_price</th>\n",
       "      <th>LIBOR</th>\n",
       "      <th>eonia</th>\n",
       "      <th>fed_rate</th>\n",
       "    </tr>\n",
       "    <tr>\n",
       "      <th>date</th>\n",
       "      <th></th>\n",
       "      <th></th>\n",
       "      <th></th>\n",
       "      <th></th>\n",
       "      <th></th>\n",
       "      <th></th>\n",
       "      <th></th>\n",
       "      <th></th>\n",
       "      <th></th>\n",
       "      <th></th>\n",
       "      <th></th>\n",
       "      <th></th>\n",
       "      <th></th>\n",
       "      <th></th>\n",
       "      <th></th>\n",
       "      <th></th>\n",
       "    </tr>\n",
       "  </thead>\n",
       "  <tbody>\n",
       "    <tr>\n",
       "      <th>04/01/2016</th>\n",
       "      <td>0.6794</td>\n",
       "      <td>0.19%</td>\n",
       "      <td>0.9232</td>\n",
       "      <td>0.26%</td>\n",
       "      <td>6.5354</td>\n",
       "      <td>0.64%</td>\n",
       "      <td>119.44</td>\n",
       "      <td>-0.74%</td>\n",
       "      <td>36.81</td>\n",
       "      <td>37.22</td>\n",
       "      <td>1075.2</td>\n",
       "      <td>13.8400</td>\n",
       "      <td>0.7704</td>\n",
       "      <td>0.37910</td>\n",
       "      <td>-0.335</td>\n",
       "      <td>0.37</td>\n",
       "    </tr>\n",
       "    <tr>\n",
       "      <th>06/01/2016</th>\n",
       "      <td>0.6836</td>\n",
       "      <td>0.31%</td>\n",
       "      <td>0.9275</td>\n",
       "      <td>-0.31%</td>\n",
       "      <td>6.5566</td>\n",
       "      <td>0.64%</td>\n",
       "      <td>118.47</td>\n",
       "      <td>-0.50%</td>\n",
       "      <td>33.97</td>\n",
       "      <td>34.23</td>\n",
       "      <td>1091.9</td>\n",
       "      <td>13.9800</td>\n",
       "      <td>0.7154</td>\n",
       "      <td>0.38550</td>\n",
       "      <td>-0.333</td>\n",
       "      <td>0.37</td>\n",
       "    </tr>\n",
       "    <tr>\n",
       "      <th>07/01/2016</th>\n",
       "      <td>0.6841</td>\n",
       "      <td>0.07%</td>\n",
       "      <td>0.9144</td>\n",
       "      <td>-1.41%</td>\n",
       "      <td>6.5929</td>\n",
       "      <td>0.55%</td>\n",
       "      <td>117.68</td>\n",
       "      <td>-0.67%</td>\n",
       "      <td>33.29</td>\n",
       "      <td>33.75</td>\n",
       "      <td>1107.8</td>\n",
       "      <td>14.3400</td>\n",
       "      <td>0.6355</td>\n",
       "      <td>0.40610</td>\n",
       "      <td>-0.321</td>\n",
       "      <td>0.41</td>\n",
       "    </tr>\n",
       "    <tr>\n",
       "      <th>08/01/2016</th>\n",
       "      <td>0.6887</td>\n",
       "      <td>0.67%</td>\n",
       "      <td>0.9148</td>\n",
       "      <td>0.04%</td>\n",
       "      <td>6.5965</td>\n",
       "      <td>0.05%</td>\n",
       "      <td>117.45</td>\n",
       "      <td>-0.20%</td>\n",
       "      <td>33.2</td>\n",
       "      <td>33.55</td>\n",
       "      <td>1097.9</td>\n",
       "      <td>13.9200</td>\n",
       "      <td>0.6398</td>\n",
       "      <td>0.41440</td>\n",
       "      <td>-0.330</td>\n",
       "      <td>0.40</td>\n",
       "    </tr>\n",
       "    <tr>\n",
       "      <th>11/01/2016</th>\n",
       "      <td>0.6876</td>\n",
       "      <td>-0.16%</td>\n",
       "      <td>0.9208</td>\n",
       "      <td>0.66%</td>\n",
       "      <td>6.5695</td>\n",
       "      <td>-0.41%</td>\n",
       "      <td>117.77</td>\n",
       "      <td>0.27%</td>\n",
       "      <td>31.42</td>\n",
       "      <td>31.55</td>\n",
       "      <td>1096.2</td>\n",
       "      <td>13.8700</td>\n",
       "      <td>0.6573</td>\n",
       "      <td>0.43456</td>\n",
       "      <td>-0.348</td>\n",
       "      <td>0.41</td>\n",
       "    </tr>\n",
       "    <tr>\n",
       "      <th>...</th>\n",
       "      <td>...</td>\n",
       "      <td>...</td>\n",
       "      <td>...</td>\n",
       "      <td>...</td>\n",
       "      <td>...</td>\n",
       "      <td>...</td>\n",
       "      <td>...</td>\n",
       "      <td>...</td>\n",
       "      <td>...</td>\n",
       "      <td>...</td>\n",
       "      <td>...</td>\n",
       "      <td>...</td>\n",
       "      <td>...</td>\n",
       "      <td>...</td>\n",
       "      <td>...</td>\n",
       "      <td>...</td>\n",
       "    </tr>\n",
       "    <tr>\n",
       "      <th>20/12/2021</th>\n",
       "      <td>0.7571</td>\n",
       "      <td>0.25%</td>\n",
       "      <td>0.8866</td>\n",
       "      <td>-0.33%</td>\n",
       "      <td>6.3756</td>\n",
       "      <td>0.01%</td>\n",
       "      <td>113.58</td>\n",
       "      <td>-0.08%</td>\n",
       "      <td>68.69</td>\n",
       "      <td>70.51</td>\n",
       "      <td>1794.6</td>\n",
       "      <td>22.2700</td>\n",
       "      <td>3.8972</td>\n",
       "      <td>0.07250</td>\n",
       "      <td>-0.491</td>\n",
       "      <td>0.08</td>\n",
       "    </tr>\n",
       "    <tr>\n",
       "      <th>21/12/2021</th>\n",
       "      <td>0.7535</td>\n",
       "      <td>-0.48%</td>\n",
       "      <td>0.8860</td>\n",
       "      <td>-0.07%</td>\n",
       "      <td>6.3716</td>\n",
       "      <td>-0.06%</td>\n",
       "      <td>114.08</td>\n",
       "      <td>0.44%</td>\n",
       "      <td>71.1</td>\n",
       "      <td>72.85</td>\n",
       "      <td>1788.7</td>\n",
       "      <td>22.4940</td>\n",
       "      <td>4.0883</td>\n",
       "      <td>0.07288</td>\n",
       "      <td>-0.486</td>\n",
       "      <td>0.08</td>\n",
       "    </tr>\n",
       "    <tr>\n",
       "      <th>22/12/2021</th>\n",
       "      <td>0.7488</td>\n",
       "      <td>-0.62%</td>\n",
       "      <td>0.8828</td>\n",
       "      <td>-0.36%</td>\n",
       "      <td>6.3695</td>\n",
       "      <td>-0.03%</td>\n",
       "      <td>114.11</td>\n",
       "      <td>0.03%</td>\n",
       "      <td>72.82</td>\n",
       "      <td>74.69</td>\n",
       "      <td>1802.2</td>\n",
       "      <td>22.7860</td>\n",
       "      <td>4.1265</td>\n",
       "      <td>0.07050</td>\n",
       "      <td>-0.489</td>\n",
       "      <td>0.08</td>\n",
       "    </tr>\n",
       "    <tr>\n",
       "      <th>23/12/2021</th>\n",
       "      <td>0.7457</td>\n",
       "      <td>-0.41%</td>\n",
       "      <td>0.8826</td>\n",
       "      <td>-0.02%</td>\n",
       "      <td>6.3696</td>\n",
       "      <td>0.00%</td>\n",
       "      <td>114.37</td>\n",
       "      <td>0.23%</td>\n",
       "      <td>73.89</td>\n",
       "      <td>76.26</td>\n",
       "      <td>1811.7</td>\n",
       "      <td>22.9130</td>\n",
       "      <td>4.1169</td>\n",
       "      <td>0.07513</td>\n",
       "      <td>-0.491</td>\n",
       "      <td>0.08</td>\n",
       "    </tr>\n",
       "    <tr>\n",
       "      <th>29/12/2021</th>\n",
       "      <td>0.7412</td>\n",
       "      <td>-0.40%</td>\n",
       "      <td>0.8809</td>\n",
       "      <td>-0.34%</td>\n",
       "      <td>6.3680</td>\n",
       "      <td>-0.01%</td>\n",
       "      <td>114.94</td>\n",
       "      <td>0.11%</td>\n",
       "      <td>76.58</td>\n",
       "      <td>78.63</td>\n",
       "      <td>1805.8</td>\n",
       "      <td>22.8394</td>\n",
       "      <td>4.1360</td>\n",
       "      <td>0.07275</td>\n",
       "      <td>-0.493</td>\n",
       "      <td>0.08</td>\n",
       "    </tr>\n",
       "  </tbody>\n",
       "</table>\n",
       "<p>1287 rows × 16 columns</p>\n",
       "</div>"
      ],
      "text/plain": [
       "            usd_gbp usd_gbp_ %  usd_eur usd_eur_%  usd_yuan usd_yuan_%  \\\n",
       "date                                                                     \n",
       "04/01/2016   0.6794      0.19%   0.9232     0.26%    6.5354      0.64%   \n",
       "06/01/2016   0.6836      0.31%   0.9275    -0.31%    6.5566      0.64%   \n",
       "07/01/2016   0.6841      0.07%   0.9144    -1.41%    6.5929      0.55%   \n",
       "08/01/2016   0.6887      0.67%   0.9148     0.04%    6.5965      0.05%   \n",
       "11/01/2016   0.6876     -0.16%   0.9208     0.66%    6.5695     -0.41%   \n",
       "...             ...        ...      ...       ...       ...        ...   \n",
       "20/12/2021   0.7571      0.25%   0.8866    -0.33%    6.3756      0.01%   \n",
       "21/12/2021   0.7535     -0.48%   0.8860    -0.07%    6.3716     -0.06%   \n",
       "22/12/2021   0.7488     -0.62%   0.8828    -0.36%    6.3695     -0.03%   \n",
       "23/12/2021   0.7457     -0.41%   0.8826    -0.02%    6.3696      0.00%   \n",
       "29/12/2021   0.7412     -0.40%   0.8809    -0.34%    6.3680     -0.01%   \n",
       "\n",
       "            usd_yen usd_yen_ % wti_oil_pprice  brent_oil_p  gold_p  silver_p  \\\n",
       "date                                                                           \n",
       "04/01/2016   119.44     -0.74%          36.81        37.22  1075.2   13.8400   \n",
       "06/01/2016   118.47     -0.50%          33.97        34.23  1091.9   13.9800   \n",
       "07/01/2016   117.68     -0.67%          33.29        33.75  1107.8   14.3400   \n",
       "08/01/2016   117.45     -0.20%           33.2        33.55  1097.9   13.9200   \n",
       "11/01/2016   117.77      0.27%          31.42        31.55  1096.2   13.8700   \n",
       "...             ...        ...            ...          ...     ...       ...   \n",
       "20/12/2021   113.58     -0.08%          68.69        70.51  1794.6   22.2700   \n",
       "21/12/2021   114.08      0.44%           71.1        72.85  1788.7   22.4940   \n",
       "22/12/2021   114.11      0.03%          72.82        74.69  1802.2   22.7860   \n",
       "23/12/2021   114.37      0.23%          73.89        76.26  1811.7   22.9130   \n",
       "29/12/2021   114.94      0.11%          76.58        78.63  1805.8   22.8394   \n",
       "\n",
       "            steel_price    LIBOR  eonia  fed_rate  \n",
       "date                                               \n",
       "04/01/2016       0.7704  0.37910 -0.335      0.37  \n",
       "06/01/2016       0.7154  0.38550 -0.333      0.37  \n",
       "07/01/2016       0.6355  0.40610 -0.321      0.41  \n",
       "08/01/2016       0.6398  0.41440 -0.330      0.40  \n",
       "11/01/2016       0.6573  0.43456 -0.348      0.41  \n",
       "...                 ...      ...    ...       ...  \n",
       "20/12/2021       3.8972  0.07250 -0.491      0.08  \n",
       "21/12/2021       4.0883  0.07288 -0.486      0.08  \n",
       "22/12/2021       4.1265  0.07050 -0.489      0.08  \n",
       "23/12/2021       4.1169  0.07513 -0.491      0.08  \n",
       "29/12/2021       4.1360  0.07275 -0.493      0.08  \n",
       "\n",
       "[1287 rows x 16 columns]"
      ]
     },
     "execution_count": 258,
     "metadata": {},
     "output_type": "execute_result"
    }
   ],
   "source": [
    "main_"
   ]
  },
  {
   "cell_type": "markdown",
   "id": "7ca26cc1",
   "metadata": {},
   "source": [
    "# Merge cryptos with main DF"
   ]
  },
  {
   "cell_type": "code",
   "execution_count": 631,
   "id": "10fceec6",
   "metadata": {},
   "outputs": [],
   "source": [
    "BTC = pd.read_csv(\"../final_data/btc.csv\")\n",
    "LTC = pd.read_csv(\"../final_data/ltc.csv\")\n",
    "ETH = pd.read_csv(\"../final_data/eth.csv\")\n",
    "XRP = pd.read_csv(\"../final_data/xrp.csv\")\n",
    "DOGE = pd.read_csv(\"../final_data/doge.csv\")"
   ]
  },
  {
   "cell_type": "code",
   "execution_count": 632,
   "id": "b672fa35",
   "metadata": {},
   "outputs": [],
   "source": [
    "XRP[\"Date\"] = pd.to_datetime(XRP[\"Date\"],infer_datetime_format=True)\n",
    "XRP['Date'] = XRP['Date'].dt.normalize()\n",
    "\n"
   ]
  },
  {
   "cell_type": "code",
   "execution_count": 633,
   "id": "10a40922",
   "metadata": {},
   "outputs": [
    {
     "data": {
      "text/html": [
       "<div>\n",
       "<style scoped>\n",
       "    .dataframe tbody tr th:only-of-type {\n",
       "        vertical-align: middle;\n",
       "    }\n",
       "\n",
       "    .dataframe tbody tr th {\n",
       "        vertical-align: top;\n",
       "    }\n",
       "\n",
       "    .dataframe thead th {\n",
       "        text-align: right;\n",
       "    }\n",
       "</style>\n",
       "<table border=\"1\" class=\"dataframe\">\n",
       "  <thead>\n",
       "    <tr style=\"text-align: right;\">\n",
       "      <th></th>\n",
       "      <th>Unnamed: 0</th>\n",
       "      <th>date</th>\n",
       "      <th>xrp_p</th>\n",
       "    </tr>\n",
       "  </thead>\n",
       "  <tbody>\n",
       "    <tr>\n",
       "      <th>0</th>\n",
       "      <td>0</td>\n",
       "      <td>2016-01-01</td>\n",
       "      <td>0.005955</td>\n",
       "    </tr>\n",
       "    <tr>\n",
       "      <th>1</th>\n",
       "      <td>1</td>\n",
       "      <td>2016-02-01</td>\n",
       "      <td>0.006065</td>\n",
       "    </tr>\n",
       "    <tr>\n",
       "      <th>2</th>\n",
       "      <td>2</td>\n",
       "      <td>2016-03-01</td>\n",
       "      <td>0.006017</td>\n",
       "    </tr>\n",
       "    <tr>\n",
       "      <th>3</th>\n",
       "      <td>3</td>\n",
       "      <td>2016-04-01</td>\n",
       "      <td>0.005958</td>\n",
       "    </tr>\n",
       "    <tr>\n",
       "      <th>4</th>\n",
       "      <td>4</td>\n",
       "      <td>2016-05-01</td>\n",
       "      <td>0.006044</td>\n",
       "    </tr>\n",
       "    <tr>\n",
       "      <th>...</th>\n",
       "      <td>...</td>\n",
       "      <td>...</td>\n",
       "      <td>...</td>\n",
       "    </tr>\n",
       "    <tr>\n",
       "      <th>2187</th>\n",
       "      <td>2187</td>\n",
       "      <td>2021-12-27</td>\n",
       "      <td>0.926184</td>\n",
       "    </tr>\n",
       "    <tr>\n",
       "      <th>2188</th>\n",
       "      <td>2188</td>\n",
       "      <td>2021-12-28</td>\n",
       "      <td>0.852960</td>\n",
       "    </tr>\n",
       "    <tr>\n",
       "      <th>2189</th>\n",
       "      <td>2189</td>\n",
       "      <td>2021-12-29</td>\n",
       "      <td>0.816714</td>\n",
       "    </tr>\n",
       "    <tr>\n",
       "      <th>2190</th>\n",
       "      <td>2190</td>\n",
       "      <td>2021-12-30</td>\n",
       "      <td>0.839649</td>\n",
       "    </tr>\n",
       "    <tr>\n",
       "      <th>2191</th>\n",
       "      <td>2191</td>\n",
       "      <td>2021-12-31</td>\n",
       "      <td>0.831163</td>\n",
       "    </tr>\n",
       "  </tbody>\n",
       "</table>\n",
       "<p>2192 rows × 3 columns</p>\n",
       "</div>"
      ],
      "text/plain": [
       "      Unnamed: 0       date     xrp_p\n",
       "0              0 2016-01-01  0.005955\n",
       "1              1 2016-02-01  0.006065\n",
       "2              2 2016-03-01  0.006017\n",
       "3              3 2016-04-01  0.005958\n",
       "4              4 2016-05-01  0.006044\n",
       "...          ...        ...       ...\n",
       "2187        2187 2021-12-27  0.926184\n",
       "2188        2188 2021-12-28  0.852960\n",
       "2189        2189 2021-12-29  0.816714\n",
       "2190        2190 2021-12-30  0.839649\n",
       "2191        2191 2021-12-31  0.831163\n",
       "\n",
       "[2192 rows x 3 columns]"
      ]
     },
     "execution_count": 633,
     "metadata": {},
     "output_type": "execute_result"
    }
   ],
   "source": [
    "XRP.rename(columns={\"Date\":\"date\"})"
   ]
  },
  {
   "cell_type": "code",
   "execution_count": 634,
   "id": "c1c69179",
   "metadata": {},
   "outputs": [],
   "source": [
    "DOGE[\"Date\"] = pd.to_datetime(DOGE[\"Date\"],infer_datetime_format=True)\n",
    "DOGE['Date'] = DOGE['Date'].dt.normalize()"
   ]
  },
  {
   "cell_type": "code",
   "execution_count": 635,
   "id": "ad49ee43",
   "metadata": {},
   "outputs": [
    {
     "data": {
      "text/html": [
       "<div>\n",
       "<style scoped>\n",
       "    .dataframe tbody tr th:only-of-type {\n",
       "        vertical-align: middle;\n",
       "    }\n",
       "\n",
       "    .dataframe tbody tr th {\n",
       "        vertical-align: top;\n",
       "    }\n",
       "\n",
       "    .dataframe thead th {\n",
       "        text-align: right;\n",
       "    }\n",
       "</style>\n",
       "<table border=\"1\" class=\"dataframe\">\n",
       "  <thead>\n",
       "    <tr style=\"text-align: right;\">\n",
       "      <th></th>\n",
       "      <th>Unnamed: 0</th>\n",
       "      <th>date</th>\n",
       "      <th>doge_p</th>\n",
       "    </tr>\n",
       "  </thead>\n",
       "  <tbody>\n",
       "    <tr>\n",
       "      <th>0</th>\n",
       "      <td>0</td>\n",
       "      <td>2016-01-01</td>\n",
       "      <td>0.000154</td>\n",
       "    </tr>\n",
       "    <tr>\n",
       "      <th>1</th>\n",
       "      <td>1</td>\n",
       "      <td>2016-02-01</td>\n",
       "      <td>0.000151</td>\n",
       "    </tr>\n",
       "    <tr>\n",
       "      <th>2</th>\n",
       "      <td>2</td>\n",
       "      <td>2016-03-01</td>\n",
       "      <td>0.000146</td>\n",
       "    </tr>\n",
       "    <tr>\n",
       "      <th>3</th>\n",
       "      <td>3</td>\n",
       "      <td>2016-04-01</td>\n",
       "      <td>0.000144</td>\n",
       "    </tr>\n",
       "    <tr>\n",
       "      <th>4</th>\n",
       "      <td>4</td>\n",
       "      <td>2016-05-01</td>\n",
       "      <td>0.000137</td>\n",
       "    </tr>\n",
       "    <tr>\n",
       "      <th>...</th>\n",
       "      <td>...</td>\n",
       "      <td>...</td>\n",
       "      <td>...</td>\n",
       "    </tr>\n",
       "    <tr>\n",
       "      <th>2187</th>\n",
       "      <td>2187</td>\n",
       "      <td>2021-12-27</td>\n",
       "      <td>0.926184</td>\n",
       "    </tr>\n",
       "    <tr>\n",
       "      <th>2188</th>\n",
       "      <td>2188</td>\n",
       "      <td>2021-12-28</td>\n",
       "      <td>0.852960</td>\n",
       "    </tr>\n",
       "    <tr>\n",
       "      <th>2189</th>\n",
       "      <td>2189</td>\n",
       "      <td>2021-12-29</td>\n",
       "      <td>0.816714</td>\n",
       "    </tr>\n",
       "    <tr>\n",
       "      <th>2190</th>\n",
       "      <td>2190</td>\n",
       "      <td>2021-12-30</td>\n",
       "      <td>0.839649</td>\n",
       "    </tr>\n",
       "    <tr>\n",
       "      <th>2191</th>\n",
       "      <td>2191</td>\n",
       "      <td>2021-12-31</td>\n",
       "      <td>0.831163</td>\n",
       "    </tr>\n",
       "  </tbody>\n",
       "</table>\n",
       "<p>2192 rows × 3 columns</p>\n",
       "</div>"
      ],
      "text/plain": [
       "      Unnamed: 0       date    doge_p\n",
       "0              0 2016-01-01  0.000154\n",
       "1              1 2016-02-01  0.000151\n",
       "2              2 2016-03-01  0.000146\n",
       "3              3 2016-04-01  0.000144\n",
       "4              4 2016-05-01  0.000137\n",
       "...          ...        ...       ...\n",
       "2187        2187 2021-12-27  0.926184\n",
       "2188        2188 2021-12-28  0.852960\n",
       "2189        2189 2021-12-29  0.816714\n",
       "2190        2190 2021-12-30  0.839649\n",
       "2191        2191 2021-12-31  0.831163\n",
       "\n",
       "[2192 rows x 3 columns]"
      ]
     },
     "execution_count": 635,
     "metadata": {},
     "output_type": "execute_result"
    }
   ],
   "source": [
    "DOGE.rename(columns={\"Date\":\"date\"})"
   ]
  },
  {
   "cell_type": "code",
   "execution_count": 636,
   "id": "c9d69d8d",
   "metadata": {},
   "outputs": [],
   "source": [
    "BTC = BTC.drop('Unnamed: 0', axis=1)\n",
    "LTC = LTC.drop('Unnamed: 0', axis=1)\n",
    "ETH = ETH.drop('Unnamed: 0', axis=1)\n",
    "XRP = XRP.drop('Unnamed: 0', axis=1)\n",
    "DOGE = DOGE.drop('Unnamed: 0', axis=1)"
   ]
  },
  {
   "cell_type": "code",
   "execution_count": 637,
   "id": "28af0165",
   "metadata": {},
   "outputs": [
    {
     "ename": "KeyError",
     "evalue": "\"None of ['date'] are in the columns\"",
     "output_type": "error",
     "traceback": [
      "\u001b[0;31m---------------------------------------------------------------------------\u001b[0m",
      "\u001b[0;31mKeyError\u001b[0m                                  Traceback (most recent call last)",
      "\u001b[0;32m/var/folders/hq/x_513gjd2qsd86w2rwvd665m0000gn/T/ipykernel_4568/499557888.py\u001b[0m in \u001b[0;36m<module>\u001b[0;34m\u001b[0m\n\u001b[1;32m      2\u001b[0m \u001b[0mLTC\u001b[0m \u001b[0;34m=\u001b[0m \u001b[0mLTC\u001b[0m\u001b[0;34m.\u001b[0m\u001b[0mset_index\u001b[0m\u001b[0;34m(\u001b[0m\u001b[0;34m'date'\u001b[0m\u001b[0;34m)\u001b[0m\u001b[0;34m\u001b[0m\u001b[0;34m\u001b[0m\u001b[0m\n\u001b[1;32m      3\u001b[0m \u001b[0mETH\u001b[0m \u001b[0;34m=\u001b[0m \u001b[0mETH\u001b[0m\u001b[0;34m.\u001b[0m\u001b[0mset_index\u001b[0m\u001b[0;34m(\u001b[0m\u001b[0;34m'date'\u001b[0m\u001b[0;34m)\u001b[0m\u001b[0;34m\u001b[0m\u001b[0;34m\u001b[0m\u001b[0m\n\u001b[0;32m----> 4\u001b[0;31m \u001b[0mXRP\u001b[0m \u001b[0;34m=\u001b[0m \u001b[0mXRP\u001b[0m\u001b[0;34m.\u001b[0m\u001b[0mset_index\u001b[0m\u001b[0;34m(\u001b[0m\u001b[0;34m'date'\u001b[0m\u001b[0;34m)\u001b[0m\u001b[0;34m\u001b[0m\u001b[0;34m\u001b[0m\u001b[0m\n\u001b[0m\u001b[1;32m      5\u001b[0m \u001b[0mDOGE\u001b[0m\u001b[0;34m=\u001b[0m \u001b[0mDOGE\u001b[0m\u001b[0;34m.\u001b[0m\u001b[0mset_index\u001b[0m\u001b[0;34m(\u001b[0m\u001b[0;34m'date'\u001b[0m\u001b[0;34m)\u001b[0m\u001b[0;34m\u001b[0m\u001b[0;34m\u001b[0m\u001b[0m\n",
      "\u001b[0;32m~/opt/anaconda3/lib/python3.9/site-packages/pandas/util/_decorators.py\u001b[0m in \u001b[0;36mwrapper\u001b[0;34m(*args, **kwargs)\u001b[0m\n\u001b[1;32m    309\u001b[0m                     \u001b[0mstacklevel\u001b[0m\u001b[0;34m=\u001b[0m\u001b[0mstacklevel\u001b[0m\u001b[0;34m,\u001b[0m\u001b[0;34m\u001b[0m\u001b[0;34m\u001b[0m\u001b[0m\n\u001b[1;32m    310\u001b[0m                 )\n\u001b[0;32m--> 311\u001b[0;31m             \u001b[0;32mreturn\u001b[0m \u001b[0mfunc\u001b[0m\u001b[0;34m(\u001b[0m\u001b[0;34m*\u001b[0m\u001b[0margs\u001b[0m\u001b[0;34m,\u001b[0m \u001b[0;34m**\u001b[0m\u001b[0mkwargs\u001b[0m\u001b[0;34m)\u001b[0m\u001b[0;34m\u001b[0m\u001b[0;34m\u001b[0m\u001b[0m\n\u001b[0m\u001b[1;32m    312\u001b[0m \u001b[0;34m\u001b[0m\u001b[0m\n\u001b[1;32m    313\u001b[0m         \u001b[0;32mreturn\u001b[0m \u001b[0mwrapper\u001b[0m\u001b[0;34m\u001b[0m\u001b[0;34m\u001b[0m\u001b[0m\n",
      "\u001b[0;32m~/opt/anaconda3/lib/python3.9/site-packages/pandas/core/frame.py\u001b[0m in \u001b[0;36mset_index\u001b[0;34m(self, keys, drop, append, inplace, verify_integrity)\u001b[0m\n\u001b[1;32m   5449\u001b[0m \u001b[0;34m\u001b[0m\u001b[0m\n\u001b[1;32m   5450\u001b[0m         \u001b[0;32mif\u001b[0m \u001b[0mmissing\u001b[0m\u001b[0;34m:\u001b[0m\u001b[0;34m\u001b[0m\u001b[0;34m\u001b[0m\u001b[0m\n\u001b[0;32m-> 5451\u001b[0;31m             \u001b[0;32mraise\u001b[0m \u001b[0mKeyError\u001b[0m\u001b[0;34m(\u001b[0m\u001b[0;34mf\"None of {missing} are in the columns\"\u001b[0m\u001b[0;34m)\u001b[0m\u001b[0;34m\u001b[0m\u001b[0;34m\u001b[0m\u001b[0m\n\u001b[0m\u001b[1;32m   5452\u001b[0m \u001b[0;34m\u001b[0m\u001b[0m\n\u001b[1;32m   5453\u001b[0m         \u001b[0;32mif\u001b[0m \u001b[0minplace\u001b[0m\u001b[0;34m:\u001b[0m\u001b[0;34m\u001b[0m\u001b[0;34m\u001b[0m\u001b[0m\n",
      "\u001b[0;31mKeyError\u001b[0m: \"None of ['date'] are in the columns\""
     ]
    }
   ],
   "source": [
    "BTC = BTC.set_index('date')\n",
    "LTC = LTC.set_index('date')\n",
    "ETH = ETH.set_index('date')\n",
    "XRP = XRP.set_index('date')\n",
    "DOGE= DOGE.set_index('date')"
   ]
  },
  {
   "cell_type": "code",
   "execution_count": 638,
   "id": "7a932866",
   "metadata": {},
   "outputs": [],
   "source": [
    "crypto_list = [BTC,LTC,ETH, XRP,DOGE]"
   ]
  },
  {
   "cell_type": "code",
   "execution_count": 647,
   "id": "dbc3348d",
   "metadata": {},
   "outputs": [
    {
     "ename": "ValueError",
     "evalue": "Indexes have overlapping values: Index(['close_price', 'Date'], dtype='object')",
     "output_type": "error",
     "traceback": [
      "\u001b[0;31m---------------------------------------------------------------------------\u001b[0m",
      "\u001b[0;31mValueError\u001b[0m                                Traceback (most recent call last)",
      "\u001b[0;32m/var/folders/hq/x_513gjd2qsd86w2rwvd665m0000gn/T/ipykernel_4568/692234106.py\u001b[0m in \u001b[0;36m<module>\u001b[0;34m\u001b[0m\n\u001b[0;32m----> 1\u001b[0;31m \u001b[0mcryptos\u001b[0m \u001b[0;34m=\u001b[0m  \u001b[0mpd\u001b[0m\u001b[0;34m.\u001b[0m\u001b[0mconcat\u001b[0m\u001b[0;34m(\u001b[0m\u001b[0mcrypto_list\u001b[0m\u001b[0;34m,\u001b[0m\u001b[0maxis\u001b[0m\u001b[0;34m=\u001b[0m\u001b[0;36m1\u001b[0m\u001b[0;34m,\u001b[0m\u001b[0mjoin\u001b[0m\u001b[0;34m=\u001b[0m\u001b[0;34m\"outer\"\u001b[0m\u001b[0;34m,\u001b[0m\u001b[0mverify_integrity\u001b[0m\u001b[0;34m=\u001b[0m\u001b[0;32mTrue\u001b[0m\u001b[0;34m,\u001b[0m\u001b[0mignore_index\u001b[0m\u001b[0;34m=\u001b[0m\u001b[0;32mFalse\u001b[0m\u001b[0;34m,\u001b[0m\u001b[0msort\u001b[0m\u001b[0;34m=\u001b[0m\u001b[0;32mFalse\u001b[0m\u001b[0;34m,\u001b[0m \u001b[0mcopy\u001b[0m\u001b[0;34m=\u001b[0m\u001b[0;32mFalse\u001b[0m\u001b[0;34m)\u001b[0m\u001b[0;34m\u001b[0m\u001b[0;34m\u001b[0m\u001b[0m\n\u001b[0m",
      "\u001b[0;32m~/opt/anaconda3/lib/python3.9/site-packages/pandas/util/_decorators.py\u001b[0m in \u001b[0;36mwrapper\u001b[0;34m(*args, **kwargs)\u001b[0m\n\u001b[1;32m    309\u001b[0m                     \u001b[0mstacklevel\u001b[0m\u001b[0;34m=\u001b[0m\u001b[0mstacklevel\u001b[0m\u001b[0;34m,\u001b[0m\u001b[0;34m\u001b[0m\u001b[0;34m\u001b[0m\u001b[0m\n\u001b[1;32m    310\u001b[0m                 )\n\u001b[0;32m--> 311\u001b[0;31m             \u001b[0;32mreturn\u001b[0m \u001b[0mfunc\u001b[0m\u001b[0;34m(\u001b[0m\u001b[0;34m*\u001b[0m\u001b[0margs\u001b[0m\u001b[0;34m,\u001b[0m \u001b[0;34m**\u001b[0m\u001b[0mkwargs\u001b[0m\u001b[0;34m)\u001b[0m\u001b[0;34m\u001b[0m\u001b[0;34m\u001b[0m\u001b[0m\n\u001b[0m\u001b[1;32m    312\u001b[0m \u001b[0;34m\u001b[0m\u001b[0m\n\u001b[1;32m    313\u001b[0m         \u001b[0;32mreturn\u001b[0m \u001b[0mwrapper\u001b[0m\u001b[0;34m\u001b[0m\u001b[0;34m\u001b[0m\u001b[0m\n",
      "\u001b[0;32m~/opt/anaconda3/lib/python3.9/site-packages/pandas/core/reshape/concat.py\u001b[0m in \u001b[0;36mconcat\u001b[0;34m(objs, axis, join, ignore_index, keys, levels, names, verify_integrity, sort, copy)\u001b[0m\n\u001b[1;32m    292\u001b[0m     \u001b[0mValueError\u001b[0m\u001b[0;34m:\u001b[0m \u001b[0mIndexes\u001b[0m \u001b[0mhave\u001b[0m \u001b[0moverlapping\u001b[0m \u001b[0mvalues\u001b[0m\u001b[0;34m:\u001b[0m \u001b[0;34m[\u001b[0m\u001b[0;34m'a'\u001b[0m\u001b[0;34m]\u001b[0m\u001b[0;34m\u001b[0m\u001b[0;34m\u001b[0m\u001b[0m\n\u001b[1;32m    293\u001b[0m     \"\"\"\n\u001b[0;32m--> 294\u001b[0;31m     op = _Concatenator(\n\u001b[0m\u001b[1;32m    295\u001b[0m         \u001b[0mobjs\u001b[0m\u001b[0;34m,\u001b[0m\u001b[0;34m\u001b[0m\u001b[0;34m\u001b[0m\u001b[0m\n\u001b[1;32m    296\u001b[0m         \u001b[0maxis\u001b[0m\u001b[0;34m=\u001b[0m\u001b[0maxis\u001b[0m\u001b[0;34m,\u001b[0m\u001b[0;34m\u001b[0m\u001b[0;34m\u001b[0m\u001b[0m\n",
      "\u001b[0;32m~/opt/anaconda3/lib/python3.9/site-packages/pandas/core/reshape/concat.py\u001b[0m in \u001b[0;36m__init__\u001b[0;34m(self, objs, axis, join, keys, levels, names, ignore_index, verify_integrity, copy, sort)\u001b[0m\n\u001b[1;32m    477\u001b[0m         \u001b[0mself\u001b[0m\u001b[0;34m.\u001b[0m\u001b[0mcopy\u001b[0m \u001b[0;34m=\u001b[0m \u001b[0mcopy\u001b[0m\u001b[0;34m\u001b[0m\u001b[0;34m\u001b[0m\u001b[0m\n\u001b[1;32m    478\u001b[0m \u001b[0;34m\u001b[0m\u001b[0m\n\u001b[0;32m--> 479\u001b[0;31m         \u001b[0mself\u001b[0m\u001b[0;34m.\u001b[0m\u001b[0mnew_axes\u001b[0m \u001b[0;34m=\u001b[0m \u001b[0mself\u001b[0m\u001b[0;34m.\u001b[0m\u001b[0m_get_new_axes\u001b[0m\u001b[0;34m(\u001b[0m\u001b[0;34m)\u001b[0m\u001b[0;34m\u001b[0m\u001b[0;34m\u001b[0m\u001b[0m\n\u001b[0m\u001b[1;32m    480\u001b[0m \u001b[0;34m\u001b[0m\u001b[0m\n\u001b[1;32m    481\u001b[0m     \u001b[0;32mdef\u001b[0m \u001b[0mget_result\u001b[0m\u001b[0;34m(\u001b[0m\u001b[0mself\u001b[0m\u001b[0;34m)\u001b[0m\u001b[0;34m:\u001b[0m\u001b[0;34m\u001b[0m\u001b[0;34m\u001b[0m\u001b[0m\n",
      "\u001b[0;32m~/opt/anaconda3/lib/python3.9/site-packages/pandas/core/reshape/concat.py\u001b[0m in \u001b[0;36m_get_new_axes\u001b[0;34m(self)\u001b[0m\n\u001b[1;32m    547\u001b[0m     \u001b[0;32mdef\u001b[0m \u001b[0m_get_new_axes\u001b[0m\u001b[0;34m(\u001b[0m\u001b[0mself\u001b[0m\u001b[0;34m)\u001b[0m \u001b[0;34m->\u001b[0m \u001b[0mlist\u001b[0m\u001b[0;34m[\u001b[0m\u001b[0mIndex\u001b[0m\u001b[0;34m]\u001b[0m\u001b[0;34m:\u001b[0m\u001b[0;34m\u001b[0m\u001b[0;34m\u001b[0m\u001b[0m\n\u001b[1;32m    548\u001b[0m         \u001b[0mndim\u001b[0m \u001b[0;34m=\u001b[0m \u001b[0mself\u001b[0m\u001b[0;34m.\u001b[0m\u001b[0m_get_result_dim\u001b[0m\u001b[0;34m(\u001b[0m\u001b[0;34m)\u001b[0m\u001b[0;34m\u001b[0m\u001b[0;34m\u001b[0m\u001b[0m\n\u001b[0;32m--> 549\u001b[0;31m         return [\n\u001b[0m\u001b[1;32m    550\u001b[0m             \u001b[0mself\u001b[0m\u001b[0;34m.\u001b[0m\u001b[0m_get_concat_axis\u001b[0m \u001b[0;32mif\u001b[0m \u001b[0mi\u001b[0m \u001b[0;34m==\u001b[0m \u001b[0mself\u001b[0m\u001b[0;34m.\u001b[0m\u001b[0mbm_axis\u001b[0m \u001b[0;32melse\u001b[0m \u001b[0mself\u001b[0m\u001b[0;34m.\u001b[0m\u001b[0m_get_comb_axis\u001b[0m\u001b[0;34m(\u001b[0m\u001b[0mi\u001b[0m\u001b[0;34m)\u001b[0m\u001b[0;34m\u001b[0m\u001b[0;34m\u001b[0m\u001b[0m\n\u001b[1;32m    551\u001b[0m             \u001b[0;32mfor\u001b[0m \u001b[0mi\u001b[0m \u001b[0;32min\u001b[0m \u001b[0mrange\u001b[0m\u001b[0;34m(\u001b[0m\u001b[0mndim\u001b[0m\u001b[0;34m)\u001b[0m\u001b[0;34m\u001b[0m\u001b[0;34m\u001b[0m\u001b[0m\n",
      "\u001b[0;32m~/opt/anaconda3/lib/python3.9/site-packages/pandas/core/reshape/concat.py\u001b[0m in \u001b[0;36m<listcomp>\u001b[0;34m(.0)\u001b[0m\n\u001b[1;32m    548\u001b[0m         \u001b[0mndim\u001b[0m \u001b[0;34m=\u001b[0m \u001b[0mself\u001b[0m\u001b[0;34m.\u001b[0m\u001b[0m_get_result_dim\u001b[0m\u001b[0;34m(\u001b[0m\u001b[0;34m)\u001b[0m\u001b[0;34m\u001b[0m\u001b[0;34m\u001b[0m\u001b[0m\n\u001b[1;32m    549\u001b[0m         return [\n\u001b[0;32m--> 550\u001b[0;31m             \u001b[0mself\u001b[0m\u001b[0;34m.\u001b[0m\u001b[0m_get_concat_axis\u001b[0m \u001b[0;32mif\u001b[0m \u001b[0mi\u001b[0m \u001b[0;34m==\u001b[0m \u001b[0mself\u001b[0m\u001b[0;34m.\u001b[0m\u001b[0mbm_axis\u001b[0m \u001b[0;32melse\u001b[0m \u001b[0mself\u001b[0m\u001b[0;34m.\u001b[0m\u001b[0m_get_comb_axis\u001b[0m\u001b[0;34m(\u001b[0m\u001b[0mi\u001b[0m\u001b[0;34m)\u001b[0m\u001b[0;34m\u001b[0m\u001b[0;34m\u001b[0m\u001b[0m\n\u001b[0m\u001b[1;32m    551\u001b[0m             \u001b[0;32mfor\u001b[0m \u001b[0mi\u001b[0m \u001b[0;32min\u001b[0m \u001b[0mrange\u001b[0m\u001b[0;34m(\u001b[0m\u001b[0mndim\u001b[0m\u001b[0;34m)\u001b[0m\u001b[0;34m\u001b[0m\u001b[0;34m\u001b[0m\u001b[0m\n\u001b[1;32m    552\u001b[0m         ]\n",
      "\u001b[0;32m~/opt/anaconda3/lib/python3.9/site-packages/pandas/_libs/properties.pyx\u001b[0m in \u001b[0;36mpandas._libs.properties.CachedProperty.__get__\u001b[0;34m()\u001b[0m\n",
      "\u001b[0;32m~/opt/anaconda3/lib/python3.9/site-packages/pandas/core/reshape/concat.py\u001b[0m in \u001b[0;36m_get_concat_axis\u001b[0;34m(self)\u001b[0m\n\u001b[1;32m    609\u001b[0m             )\n\u001b[1;32m    610\u001b[0m \u001b[0;34m\u001b[0m\u001b[0m\n\u001b[0;32m--> 611\u001b[0;31m         \u001b[0mself\u001b[0m\u001b[0;34m.\u001b[0m\u001b[0m_maybe_check_integrity\u001b[0m\u001b[0;34m(\u001b[0m\u001b[0mconcat_axis\u001b[0m\u001b[0;34m)\u001b[0m\u001b[0;34m\u001b[0m\u001b[0;34m\u001b[0m\u001b[0m\n\u001b[0m\u001b[1;32m    612\u001b[0m \u001b[0;34m\u001b[0m\u001b[0m\n\u001b[1;32m    613\u001b[0m         \u001b[0;32mreturn\u001b[0m \u001b[0mconcat_axis\u001b[0m\u001b[0;34m\u001b[0m\u001b[0;34m\u001b[0m\u001b[0m\n",
      "\u001b[0;32m~/opt/anaconda3/lib/python3.9/site-packages/pandas/core/reshape/concat.py\u001b[0m in \u001b[0;36m_maybe_check_integrity\u001b[0;34m(self, concat_index)\u001b[0m\n\u001b[1;32m    617\u001b[0m             \u001b[0;32mif\u001b[0m \u001b[0;32mnot\u001b[0m \u001b[0mconcat_index\u001b[0m\u001b[0;34m.\u001b[0m\u001b[0mis_unique\u001b[0m\u001b[0;34m:\u001b[0m\u001b[0;34m\u001b[0m\u001b[0;34m\u001b[0m\u001b[0m\n\u001b[1;32m    618\u001b[0m                 \u001b[0moverlap\u001b[0m \u001b[0;34m=\u001b[0m \u001b[0mconcat_index\u001b[0m\u001b[0;34m[\u001b[0m\u001b[0mconcat_index\u001b[0m\u001b[0;34m.\u001b[0m\u001b[0mduplicated\u001b[0m\u001b[0;34m(\u001b[0m\u001b[0;34m)\u001b[0m\u001b[0;34m]\u001b[0m\u001b[0;34m.\u001b[0m\u001b[0munique\u001b[0m\u001b[0;34m(\u001b[0m\u001b[0;34m)\u001b[0m\u001b[0;34m\u001b[0m\u001b[0;34m\u001b[0m\u001b[0m\n\u001b[0;32m--> 619\u001b[0;31m                 \u001b[0;32mraise\u001b[0m \u001b[0mValueError\u001b[0m\u001b[0;34m(\u001b[0m\u001b[0;34mf\"Indexes have overlapping values: {overlap}\"\u001b[0m\u001b[0;34m)\u001b[0m\u001b[0;34m\u001b[0m\u001b[0;34m\u001b[0m\u001b[0m\n\u001b[0m\u001b[1;32m    620\u001b[0m \u001b[0;34m\u001b[0m\u001b[0m\n\u001b[1;32m    621\u001b[0m \u001b[0;34m\u001b[0m\u001b[0m\n",
      "\u001b[0;31mValueError\u001b[0m: Indexes have overlapping values: Index(['close_price', 'Date'], dtype='object')"
     ]
    }
   ],
   "source": [
    "cryptos =  pd.concat(crypto_list,axis=1,join=\"outer\",verify_integrity=True,ignore_index=False,sort=False, copy=False)\n"
   ]
  },
  {
   "cell_type": "code",
   "execution_count": null,
   "id": "9f4baa1d",
   "metadata": {},
   "outputs": [],
   "source": []
  },
  {
   "cell_type": "code",
   "execution_count": 643,
   "id": "e27399ab",
   "metadata": {},
   "outputs": [],
   "source": []
  },
  {
   "cell_type": "code",
   "execution_count": 644,
   "id": "a6410243",
   "metadata": {},
   "outputs": [],
   "source": []
  },
  {
   "cell_type": "code",
   "execution_count": 646,
   "id": "4bfdad9f",
   "metadata": {},
   "outputs": [
    {
     "data": {
      "text/html": [
       "<div>\n",
       "<style scoped>\n",
       "    .dataframe tbody tr th:only-of-type {\n",
       "        vertical-align: middle;\n",
       "    }\n",
       "\n",
       "    .dataframe tbody tr th {\n",
       "        vertical-align: top;\n",
       "    }\n",
       "\n",
       "    .dataframe thead th {\n",
       "        text-align: right;\n",
       "    }\n",
       "</style>\n",
       "<table border=\"1\" class=\"dataframe\">\n",
       "  <thead>\n",
       "    <tr style=\"text-align: right;\">\n",
       "      <th></th>\n",
       "      <th>close_price</th>\n",
       "    </tr>\n",
       "  </thead>\n",
       "  <tbody>\n",
       "    <tr>\n",
       "      <th>0</th>\n",
       "      <td>0.0</td>\n",
       "    </tr>\n",
       "    <tr>\n",
       "      <th>1</th>\n",
       "      <td>0.0</td>\n",
       "    </tr>\n",
       "    <tr>\n",
       "      <th>2</th>\n",
       "      <td>0.0</td>\n",
       "    </tr>\n",
       "    <tr>\n",
       "      <th>3</th>\n",
       "      <td>0.0</td>\n",
       "    </tr>\n",
       "    <tr>\n",
       "      <th>4</th>\n",
       "      <td>0.0</td>\n",
       "    </tr>\n",
       "    <tr>\n",
       "      <th>...</th>\n",
       "      <td>...</td>\n",
       "    </tr>\n",
       "    <tr>\n",
       "      <th>505</th>\n",
       "      <td>0.0</td>\n",
       "    </tr>\n",
       "    <tr>\n",
       "      <th>506</th>\n",
       "      <td>0.0</td>\n",
       "    </tr>\n",
       "    <tr>\n",
       "      <th>507</th>\n",
       "      <td>0.0</td>\n",
       "    </tr>\n",
       "    <tr>\n",
       "      <th>508</th>\n",
       "      <td>0.0</td>\n",
       "    </tr>\n",
       "    <tr>\n",
       "      <th>509</th>\n",
       "      <td>0.0</td>\n",
       "    </tr>\n",
       "  </tbody>\n",
       "</table>\n",
       "<p>510 rows × 1 columns</p>\n",
       "</div>"
      ],
      "text/plain": [
       "     close_price\n",
       "0            0.0\n",
       "1            0.0\n",
       "2            0.0\n",
       "3            0.0\n",
       "4            0.0\n",
       "..           ...\n",
       "505          0.0\n",
       "506          0.0\n",
       "507          0.0\n",
       "508          0.0\n",
       "509          0.0\n",
       "\n",
       "[510 rows x 1 columns]"
      ]
     },
     "execution_count": 646,
     "metadata": {},
     "output_type": "execute_result"
    }
   ],
   "source": []
  },
  {
   "cell_type": "code",
   "execution_count": 645,
   "id": "fe271dc6",
   "metadata": {},
   "outputs": [
    {
     "ename": "MergeError",
     "evalue": "No common columns to perform merge on. Merge options: left_on=None, right_on=None, left_index=False, right_index=False",
     "output_type": "error",
     "traceback": [
      "\u001b[0;31m---------------------------------------------------------------------------\u001b[0m",
      "\u001b[0;31mMergeError\u001b[0m                                Traceback (most recent call last)",
      "\u001b[0;32m/var/folders/hq/x_513gjd2qsd86w2rwvd665m0000gn/T/ipykernel_4568/2973041834.py\u001b[0m in \u001b[0;36m<module>\u001b[0;34m\u001b[0m\n\u001b[0;32m----> 1\u001b[0;31m \u001b[0mcryptos_3\u001b[0m \u001b[0;34m=\u001b[0m \u001b[0mpd\u001b[0m\u001b[0;34m.\u001b[0m\u001b[0mmerge\u001b[0m\u001b[0;34m(\u001b[0m\u001b[0mcryptos_2\u001b[0m\u001b[0;34m,\u001b[0m\u001b[0mXRP\u001b[0m\u001b[0;34m,\u001b[0m\u001b[0mhow\u001b[0m\u001b[0;34m=\u001b[0m\u001b[0;34m\"inner\"\u001b[0m\u001b[0;34m)\u001b[0m\u001b[0;34m\u001b[0m\u001b[0;34m\u001b[0m\u001b[0m\n\u001b[0m",
      "\u001b[0;32m~/opt/anaconda3/lib/python3.9/site-packages/pandas/core/reshape/merge.py\u001b[0m in \u001b[0;36mmerge\u001b[0;34m(left, right, how, on, left_on, right_on, left_index, right_index, sort, suffixes, copy, indicator, validate)\u001b[0m\n\u001b[1;32m    104\u001b[0m     \u001b[0mvalidate\u001b[0m\u001b[0;34m:\u001b[0m \u001b[0mstr\u001b[0m \u001b[0;34m|\u001b[0m \u001b[0;32mNone\u001b[0m \u001b[0;34m=\u001b[0m \u001b[0;32mNone\u001b[0m\u001b[0;34m,\u001b[0m\u001b[0;34m\u001b[0m\u001b[0;34m\u001b[0m\u001b[0m\n\u001b[1;32m    105\u001b[0m ) -> DataFrame:\n\u001b[0;32m--> 106\u001b[0;31m     op = _MergeOperation(\n\u001b[0m\u001b[1;32m    107\u001b[0m         \u001b[0mleft\u001b[0m\u001b[0;34m,\u001b[0m\u001b[0;34m\u001b[0m\u001b[0;34m\u001b[0m\u001b[0m\n\u001b[1;32m    108\u001b[0m         \u001b[0mright\u001b[0m\u001b[0;34m,\u001b[0m\u001b[0;34m\u001b[0m\u001b[0;34m\u001b[0m\u001b[0m\n",
      "\u001b[0;32m~/opt/anaconda3/lib/python3.9/site-packages/pandas/core/reshape/merge.py\u001b[0m in \u001b[0;36m__init__\u001b[0;34m(self, left, right, how, on, left_on, right_on, axis, left_index, right_index, sort, suffixes, copy, indicator, validate)\u001b[0m\n\u001b[1;32m    679\u001b[0m             \u001b[0mwarnings\u001b[0m\u001b[0;34m.\u001b[0m\u001b[0mwarn\u001b[0m\u001b[0;34m(\u001b[0m\u001b[0mmsg\u001b[0m\u001b[0;34m,\u001b[0m \u001b[0mFutureWarning\u001b[0m\u001b[0;34m,\u001b[0m \u001b[0mstacklevel\u001b[0m\u001b[0;34m=\u001b[0m\u001b[0;36m3\u001b[0m\u001b[0;34m)\u001b[0m\u001b[0;34m\u001b[0m\u001b[0;34m\u001b[0m\u001b[0m\n\u001b[1;32m    680\u001b[0m \u001b[0;34m\u001b[0m\u001b[0m\n\u001b[0;32m--> 681\u001b[0;31m         \u001b[0mself\u001b[0m\u001b[0;34m.\u001b[0m\u001b[0m_validate_specification\u001b[0m\u001b[0;34m(\u001b[0m\u001b[0;34m)\u001b[0m\u001b[0;34m\u001b[0m\u001b[0;34m\u001b[0m\u001b[0m\n\u001b[0m\u001b[1;32m    682\u001b[0m \u001b[0;34m\u001b[0m\u001b[0m\n\u001b[1;32m    683\u001b[0m         \u001b[0mcross_col\u001b[0m \u001b[0;34m=\u001b[0m \u001b[0;32mNone\u001b[0m\u001b[0;34m\u001b[0m\u001b[0;34m\u001b[0m\u001b[0m\n",
      "\u001b[0;32m~/opt/anaconda3/lib/python3.9/site-packages/pandas/core/reshape/merge.py\u001b[0m in \u001b[0;36m_validate_specification\u001b[0;34m(self)\u001b[0m\n\u001b[1;32m   1344\u001b[0m                 \u001b[0mcommon_cols\u001b[0m \u001b[0;34m=\u001b[0m \u001b[0mleft_cols\u001b[0m\u001b[0;34m.\u001b[0m\u001b[0mintersection\u001b[0m\u001b[0;34m(\u001b[0m\u001b[0mright_cols\u001b[0m\u001b[0;34m)\u001b[0m\u001b[0;34m\u001b[0m\u001b[0;34m\u001b[0m\u001b[0m\n\u001b[1;32m   1345\u001b[0m                 \u001b[0;32mif\u001b[0m \u001b[0mlen\u001b[0m\u001b[0;34m(\u001b[0m\u001b[0mcommon_cols\u001b[0m\u001b[0;34m)\u001b[0m \u001b[0;34m==\u001b[0m \u001b[0;36m0\u001b[0m\u001b[0;34m:\u001b[0m\u001b[0;34m\u001b[0m\u001b[0;34m\u001b[0m\u001b[0m\n\u001b[0;32m-> 1346\u001b[0;31m                     raise MergeError(\n\u001b[0m\u001b[1;32m   1347\u001b[0m                         \u001b[0;34m\"No common columns to perform merge on. \"\u001b[0m\u001b[0;34m\u001b[0m\u001b[0;34m\u001b[0m\u001b[0m\n\u001b[1;32m   1348\u001b[0m                         \u001b[0;34mf\"Merge options: left_on={self.left_on}, \"\u001b[0m\u001b[0;34m\u001b[0m\u001b[0;34m\u001b[0m\u001b[0m\n",
      "\u001b[0;31mMergeError\u001b[0m: No common columns to perform merge on. Merge options: left_on=None, right_on=None, left_index=False, right_index=False"
     ]
    }
   ],
   "source": [
    "cryptos_3 = pd.merge(cryptos_2,XRP,how=\"inner\")"
   ]
  },
  {
   "cell_type": "code",
   "execution_count": null,
   "id": "8e2fb455",
   "metadata": {},
   "outputs": [],
   "source": []
  },
  {
   "cell_type": "code",
   "execution_count": null,
   "id": "94b36eae",
   "metadata": {},
   "outputs": [],
   "source": []
  },
  {
   "cell_type": "code",
   "execution_count": null,
   "id": "7a4d3c91",
   "metadata": {},
   "outputs": [],
   "source": [
    "cryptos_2.isna().sum()"
   ]
  },
  {
   "cell_type": "code",
   "execution_count": 595,
   "id": "66a099f5",
   "metadata": {},
   "outputs": [],
   "source": [
    "# curr_df = pd.concat(crypto_list,axis=1,join=\"inner\",ignore_index=False,sort=False, copy=False) "
   ]
  },
  {
   "cell_type": "code",
   "execution_count": 596,
   "id": "53e77cf1",
   "metadata": {},
   "outputs": [
    {
     "data": {
      "text/html": [
       "<div>\n",
       "<style scoped>\n",
       "    .dataframe tbody tr th:only-of-type {\n",
       "        vertical-align: middle;\n",
       "    }\n",
       "\n",
       "    .dataframe tbody tr th {\n",
       "        vertical-align: top;\n",
       "    }\n",
       "\n",
       "    .dataframe thead th {\n",
       "        text-align: right;\n",
       "    }\n",
       "</style>\n",
       "<table border=\"1\" class=\"dataframe\">\n",
       "  <thead>\n",
       "    <tr style=\"text-align: right;\">\n",
       "      <th></th>\n",
       "      <th>close_price</th>\n",
       "      <th>close_price</th>\n",
       "      <th>close_price</th>\n",
       "      <th>xrp_p</th>\n",
       "      <th>doge_p</th>\n",
       "    </tr>\n",
       "  </thead>\n",
       "  <tbody>\n",
       "  </tbody>\n",
       "</table>\n",
       "</div>"
      ],
      "text/plain": [
       "Empty DataFrame\n",
       "Columns: [close_price, close_price, close_price, xrp_p, doge_p]\n",
       "Index: []"
      ]
     },
     "execution_count": 596,
     "metadata": {},
     "output_type": "execute_result"
    }
   ],
   "source": [
    "curr_df"
   ]
  },
  {
   "cell_type": "code",
   "execution_count": null,
   "id": "e59408ed",
   "metadata": {},
   "outputs": [],
   "source": []
  }
 ],
 "metadata": {
  "kernelspec": {
   "display_name": "Python 3 (ipykernel)",
   "language": "python",
   "name": "python3"
  },
  "language_info": {
   "codemirror_mode": {
    "name": "ipython",
    "version": 3
   },
   "file_extension": ".py",
   "mimetype": "text/x-python",
   "name": "python",
   "nbconvert_exporter": "python",
   "pygments_lexer": "ipython3",
   "version": "3.9.7"
  }
 },
 "nbformat": 4,
 "nbformat_minor": 5
}
