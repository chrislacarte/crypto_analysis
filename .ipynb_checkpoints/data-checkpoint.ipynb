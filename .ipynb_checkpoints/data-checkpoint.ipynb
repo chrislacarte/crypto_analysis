{
 "cells": [
  {
   "cell_type": "markdown",
   "id": "feb7e545",
   "metadata": {},
   "source": [
    "# API data pulling "
   ]
  },
  {
   "cell_type": "code",
   "execution_count": 32,
   "id": "afe36cc1",
   "metadata": {},
   "outputs": [],
   "source": [
    "import requests\n",
    "import pandas as pd\n",
    "import numpy as np\n",
    "import time \n",
    "import json"
   ]
  },
  {
   "cell_type": "code",
   "execution_count": 33,
   "id": "aa0991a0",
   "metadata": {},
   "outputs": [],
   "source": [
    "BTC = requests.get(\"https://api.cryptowat.ch/markets/kraken/btcusd/ohlc?periods=86400&apikey=XVGSK3GTQSR4WA9W8XY7\")\n",
    "LTC = requests.get(\"https://api.cryptowat.ch/markets/kraken/ltcusd/ohlc?periods=86400&apikey=XVGSK3GTQSR4WA9W8XY7\")\n",
    "ETH = requests.get(\"https://api.cryptowat.ch/markets/kraken/ethusd/ohlc?periods=86400&apikey=XVGSK3GTQSR4WA9W8XY7\") \n",
    "XRP = requests.get(\"https://api.cryptowat.ch/markets/kraken/xrpusd/ohlc?periods=86400&apikey=XVGSK3GTQSR4WA9W8XY7\") \n",
    "DOGE = requests.get(\"https://api.cryptowat.ch/markets/kraken/dogeusd/ohlc?periods=86400&apikey=XVGSK3GTQSR4WA9W8XY7\") "
   ]
  },
  {
   "cell_type": "code",
   "execution_count": 34,
   "id": "d0c86626",
   "metadata": {},
   "outputs": [],
   "source": [
    "def clean_api_request(req):\n",
    "    req = req.json()\n",
    "    # Convert jsonized lists to DF \n",
    "    req = pd.DataFrame(req['result']['86400'])\n",
    "    # Rename DF columns \n",
    "    req.columns = ['date', 'open_price', 'hi_price', 'lo_price', 'close_price', 'vol', 'quote_vol']\n",
    "    # Select only date and closing value \n",
    "    req = req[['date','close_price']]\n",
    "    # Convert Epoch time (secs since 1970) into datetime object\n",
    "    req['date'] = pd.to_datetime(req['date'], unit='s')\n",
    "    #Select date range from 2016 - 2021\n",
    "    req = (req.loc[req[\"date\"].between(\"2016-01-01\", \"2021-12-31\")]).reset_index(drop=True)\n",
    "    return req"
   ]
  },
  {
   "cell_type": "markdown",
   "id": "43d97fbf",
   "metadata": {},
   "source": [
    "XRP and Doge are missing some historiucal data when pulling the API data, there are no records there before 2017, may be becayse the value for those crypto  was too low.\n",
    "\n",
    "XRP had only 1687 rows (days of trade, so missing before 2017ish) \n",
    "\n",
    "DOGE has onlky 743 rows \n",
    "\n",
    "I found historical for those 2 cryptos in Kaggle. \n",
    "https://www.kaggle.com/datasets/sudalairajkumar/cryptocurrencypricehistory?resource=download&select=coin_XRP.csv"
   ]
  },
  {
   "cell_type": "code",
   "execution_count": 35,
   "id": "cc1c9ccf",
   "metadata": {},
   "outputs": [],
   "source": [
    "BTC = clean_api_request(BTC)\n",
    "LTC = clean_api_request(LTC)\n",
    "ETH = clean_api_request(ETH)\n",
    "#XRP and DPOGE data pulled from Kaggle \n",
    "XRP = pd.read_csv(\"../data/XRP_p_16-21.csv\")\n",
    "DOGE = pd.read_csv(\"../data/dogecoin_p_16_21.csv\")"
   ]
  },
  {
   "cell_type": "code",
   "execution_count": 39,
   "id": "2109e0ad",
   "metadata": {},
   "outputs": [],
   "source": [
    "BTC = BTC.rename(columns={\"close_price\": \"btc_p\"})\n",
    "LTC = LTC.rename(columns={\"close_price\": \"ltc_p\"})\n",
    "ETH = ETH.rename(columns={\"close_price\": \"eth_p\"})\n"
   ]
  },
  {
   "cell_type": "code",
   "execution_count": 41,
   "id": "f2a6d493",
   "metadata": {},
   "outputs": [],
   "source": [
    "BTC.to_csv(\"../final_data/btc.csv\")\n",
    "LTC.to_csv(\"../final_data/ltc.csv\")\n",
    "ETH.to_csv(\"../final_data/eth.csv\")\n",
    "XRP.to_csv(\"../final_data/xrp.csv\")\n",
    "DOGE.to_csv(\"../final_data/doge.csv\")"
   ]
  },
  {
   "cell_type": "code",
   "execution_count": 42,
   "id": "e0a0a7fb",
   "metadata": {},
   "outputs": [],
   "source": [
    "!git add . "
   ]
  },
  {
   "cell_type": "code",
   "execution_count": 43,
   "id": "85d8268f",
   "metadata": {},
   "outputs": [
    {
     "name": "stdout",
     "output_type": "stream",
     "text": [
      "[main d3fc975] in progress\r\n",
      " 4 files changed, 2761 insertions(+), 4830 deletions(-)\r\n",
      " copy data.ipynb => .ipynb_checkpoints/data-checkpoint.ipynb (98%)\r\n",
      " create mode 100644 .ipynb_checkpoints/data_sourcing-checkpoint.ipynb\r\n",
      " rewrite data.ipynb (65%)\r\n",
      " rewrite data_sourcing.ipynb (85%)\r\n"
     ]
    }
   ],
   "source": [
    "!git commit -m'in progress'"
   ]
  },
  {
   "cell_type": "code",
   "execution_count": 44,
   "id": "934e4d8a",
   "metadata": {},
   "outputs": [
    {
     "name": "stdout",
     "output_type": "stream",
     "text": [
      "Enumerating objects: 10, done.\n",
      "Counting objects: 100% (10/10), done.\n",
      "Delta compression using up to 4 threads\n",
      "Compressing objects: 100% (7/7), done.\n",
      "Writing objects: 100% (7/7), 14.67 KiB | 2.44 MiB/s, done.\n",
      "Total 7 (delta 3), reused 0 (delta 0), pack-reused 0\n",
      "remote: Resolving deltas: 100% (3/3), done.\u001b[K\n",
      "To https://github.com/chrislacarte/crypto_analysis\n",
      "   2ddc1fa..d3fc975  main -> main\n"
     ]
    }
   ],
   "source": [
    "!git push"
   ]
  },
  {
   "cell_type": "code",
   "execution_count": null,
   "id": "c4357a85",
   "metadata": {},
   "outputs": [],
   "source": []
  }
 ],
 "metadata": {
  "kernelspec": {
   "display_name": "Python 3 (ipykernel)",
   "language": "python",
   "name": "python3"
  },
  "language_info": {
   "codemirror_mode": {
    "name": "ipython",
    "version": 3
   },
   "file_extension": ".py",
   "mimetype": "text/x-python",
   "name": "python",
   "nbconvert_exporter": "python",
   "pygments_lexer": "ipython3",
   "version": "3.9.7"
  }
 },
 "nbformat": 4,
 "nbformat_minor": 5
}
