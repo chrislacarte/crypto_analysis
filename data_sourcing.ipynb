{
 "cells": [
  {
   "cell_type": "code",
   "execution_count": 1,
   "id": "6b740844",
   "metadata": {},
   "outputs": [],
   "source": [
    "import requests\n",
    "import pandas as pd\n",
    "import numpy as np\n",
    "import time \n",
    "import json\n",
    "import os\n",
    "from datetime import datetime, timedelta\n",
    "\n"
   ]
  },
  {
   "cell_type": "markdown",
   "id": "b145ce74",
   "metadata": {},
   "source": [
    "# REQUEST AND CLEAN API "
   ]
  },
  {
   "cell_type": "code",
   "execution_count": null,
   "id": "ee236789",
   "metadata": {},
   "outputs": [],
   "source": [
    "# API requests: \n",
    "btc = requests.get(\"https://api.cryptowat.ch/markets/kraken/btcusd/ohlc?periods=86400&apikey=XVGSK3GTQSR4WA9W8XY7\")"
   ]
  },
  {
   "cell_type": "code",
   "execution_count": null,
   "id": "25d56239",
   "metadata": {},
   "outputs": [],
   "source": [
    "#Jsonize\n",
    "btc = btc.json()"
   ]
  },
  {
   "cell_type": "code",
   "execution_count": null,
   "id": "ca34a12c",
   "metadata": {},
   "outputs": [],
   "source": [
    "btc['result']['86400']"
   ]
  },
  {
   "cell_type": "code",
   "execution_count": null,
   "id": "fb07011d",
   "metadata": {},
   "outputs": [],
   "source": [
    "# Convert jsonized lists to DF \n",
    "btc = pd.DataFrame(btc['result']['86400'])"
   ]
  },
  {
   "cell_type": "code",
   "execution_count": null,
   "id": "67481397",
   "metadata": {},
   "outputs": [],
   "source": [
    "# Rename DF columns \n",
    "btc.columns = ['date', 'open_price', 'hi_price', 'lo_price', 'close_price', 'vol', 'quote_vol']"
   ]
  },
  {
   "cell_type": "code",
   "execution_count": null,
   "id": "1afb5fbd",
   "metadata": {},
   "outputs": [],
   "source": [
    "# Select only date and closing value \n",
    "btc = btc[['date','close_price']]"
   ]
  },
  {
   "cell_type": "code",
   "execution_count": null,
   "id": "cfb3242e",
   "metadata": {},
   "outputs": [],
   "source": [
    "# Convert Epoch time (secs since 1970) into datetime object\n",
    "btc['date'] = pd.to_datetime(btc['date'], unit='s')"
   ]
  },
  {
   "cell_type": "code",
   "execution_count": null,
   "id": "cd0f42a3",
   "metadata": {},
   "outputs": [],
   "source": [
    "#Select date range from 2016 - 2021\n",
    "BTC = (btc.loc[btc[\"date\"].between(\"2016-01-01\", \"2021-12-31\")]).reset_index(drop=True)"
   ]
  },
  {
   "cell_type": "markdown",
   "id": "0f4b52af",
   "metadata": {},
   "source": [
    "# CLEAN API DATA FUNCTION"
   ]
  },
  {
   "cell_type": "code",
   "execution_count": null,
   "id": "0fb96868",
   "metadata": {},
   "outputs": [],
   "source": [
    "def clean_api_request(req): #Inouts a cryptowatch API request\n",
    "    req = req.json()\n",
    "    # Convert jsonized lists to DF \n",
    "    req = pd.DataFrame(req['result']['86400'])\n",
    "    # Rename DF columns \n",
    "    req.columns = ['date', 'open_price', 'hi_price', 'lo_price', 'close_price', 'vol', 'quote_vol']\n",
    "    # Select only date and closing value \n",
    "    req = req[['date','close_price']]\n",
    "    # Convert Epoch time (secs since 1970) into datetime object\n",
    "    req['date'] = pd.to_datetime(req['date'], unit='s')\n",
    "    #Select date range from 2016 - 2021\n",
    "    req = (req.loc[req[\"date\"].between(\"2016-01-01\", \"2021-12-31\")]).reset_index(drop=True)\n",
    "    return req # returns a DF with date and daily close cryptocurrency price for every request"
   ]
  },
  {
   "cell_type": "markdown",
   "id": "c02458bc",
   "metadata": {},
   "source": [
    "# COMODITIES "
   ]
  },
  {
   "cell_type": "code",
   "execution_count": 184,
   "id": "fed469f8",
   "metadata": {},
   "outputs": [],
   "source": [
    "import pandas as pd \n",
    "OIL_BRENT = pd.read_csv(\"../data/brent-crude-oil-prices-16-21.csv\")\n",
    "OIL_WTI = pd.read_csv(\"../data/WTI_oil_prices_16-21.csv\")\n",
    "GOLD = pd.read_csv(\"../data/gold_prices_16-21.csv\")\n",
    "SILVER = pd.read_csv(\"../data/silver_prices_16-21.csv\")\n",
    "STEEL = pd.read_csv(\"../data/Steel_prices_16-21.csv\")\n",
    "# COAL = pd.read_csv(\"../data/Coal_p_16-21.csv\")"
   ]
  },
  {
   "cell_type": "code",
   "execution_count": 192,
   "id": "40e77895",
   "metadata": {},
   "outputs": [],
   "source": [
    "com_list = [OIL_WTI, OIL_BRENT, GOLD, SILVER,STEEL]  # List of dataframes"
   ]
  },
  {
   "cell_type": "code",
   "execution_count": 193,
   "id": "c4a0615a",
   "metadata": {},
   "outputs": [],
   "source": [
    "# We convert the date coliumn into the index to compare later with other DF \n",
    "OIL_WTI = OIL_WTI.set_index('date')\n",
    "OIL_BRENT = OIL_BRENT.set_index('date')\n",
    "GOLD = GOLD.set_index('date')\n",
    "SILVER = SILVER.set_index('date')\n",
    "STEEL = STEEL.set_index('date')"
   ]
  },
  {
   "cell_type": "code",
   "execution_count": 197,
   "id": "9732a853",
   "metadata": {},
   "outputs": [],
   "source": [
    "# Merging DF\n",
    "merge=pd.merge(OIL_WTI,OIL_BRENT, how='inner', left_index=True, right_index=True)\n",
    "merge_2 = pd.merge(merge,GOLD, how='inner', left_index=True, right_index=True)\n",
    "merge_3 = pd.merge(merge_2,SILVER, how='inner', left_index=True, right_index=True)\n",
    "comm_df = pd.merge(merge_3,STEEL, how='inner', left_index=True, right_index=True)"
   ]
  },
  {
   "cell_type": "markdown",
   "id": "790c2a96",
   "metadata": {},
   "source": [
    "# CURRENCIES (£-USD, EURO-USD, USD-Yuan, USD-yen)"
   ]
  },
  {
   "cell_type": "code",
   "execution_count": 209,
   "id": "89928d0a",
   "metadata": {},
   "outputs": [],
   "source": [
    "import pandas as pd \n",
    "gbp = pd.read_csv(\"../data/USD_GBP_16-21.csv\")\n",
    "eur = pd.read_csv(\"../data/USD_EUR_16-21.csv\")\n",
    "yua = pd.read_csv(\"../data/USD_CNY_16-21.csv\")\n",
    "yen = pd.read_csv(\"../data/USD_JPY_16-21.csv\")"
   ]
  },
  {
   "cell_type": "code",
   "execution_count": 210,
   "id": "04458e19",
   "metadata": {},
   "outputs": [],
   "source": [
    "gbp['date'] = pd.to_datetime(gbp['date'])\n",
    "gbp['date'] = gbp['date'].dt.strftime('%d/%m/%Y')\n",
    "eur['date'] = pd.to_datetime(eur['date'])\n",
    "eur['date'] = eur['date'].dt.strftime('%d/%m/%Y')\n",
    "yua['date'] = pd.to_datetime(yua['date'])\n",
    "yua['date'] = yua['date'].dt.strftime('%d/%m/%Y')\n",
    "yen['date'] = pd.to_datetime(yen['date'])\n",
    "yen['date'] = yen['date'].dt.strftime('%d/%m/%Y')"
   ]
  },
  {
   "cell_type": "code",
   "execution_count": 211,
   "id": "52c6232a",
   "metadata": {},
   "outputs": [],
   "source": [
    "gbp = gbp.set_index('date')\n",
    "eur = eur.set_index('date')\n",
    "yua = yua.set_index('date')\n",
    "yen = yen.set_index('date')"
   ]
  },
  {
   "cell_type": "code",
   "execution_count": 212,
   "id": "f5dffa02",
   "metadata": {},
   "outputs": [],
   "source": [
    "currencies = [gbp,eur,yua,yen]"
   ]
  },
  {
   "cell_type": "code",
   "execution_count": 213,
   "id": "bd2a0cd8",
   "metadata": {},
   "outputs": [],
   "source": [
    "curr_df = pd.concat(currencies,axis=1,join=\"inner\",ignore_index=False,sort=False, copy=False) "
   ]
  },
  {
   "cell_type": "code",
   "execution_count": 313,
   "id": "839b3c86",
   "metadata": {},
   "outputs": [
    {
     "data": {
      "text/html": [
       "<div>\n",
       "<style scoped>\n",
       "    .dataframe tbody tr th:only-of-type {\n",
       "        vertical-align: middle;\n",
       "    }\n",
       "\n",
       "    .dataframe tbody tr th {\n",
       "        vertical-align: top;\n",
       "    }\n",
       "\n",
       "    .dataframe thead th {\n",
       "        text-align: right;\n",
       "    }\n",
       "</style>\n",
       "<table border=\"1\" class=\"dataframe\">\n",
       "  <thead>\n",
       "    <tr style=\"text-align: right;\">\n",
       "      <th></th>\n",
       "      <th>usd_gbp</th>\n",
       "      <th>usd_gbp_ %</th>\n",
       "      <th>usd_eur</th>\n",
       "      <th>usd_eur_%</th>\n",
       "      <th>usd_yuan</th>\n",
       "      <th>usd_yuan_%</th>\n",
       "      <th>usd_yen</th>\n",
       "      <th>usd_yen_ %</th>\n",
       "    </tr>\n",
       "    <tr>\n",
       "      <th>date</th>\n",
       "      <th></th>\n",
       "      <th></th>\n",
       "      <th></th>\n",
       "      <th></th>\n",
       "      <th></th>\n",
       "      <th></th>\n",
       "      <th></th>\n",
       "      <th></th>\n",
       "    </tr>\n",
       "  </thead>\n",
       "  <tbody>\n",
       "    <tr>\n",
       "      <th>01/01/2016</th>\n",
       "      <td>0.6781</td>\n",
       "      <td>-0.04%</td>\n",
       "      <td>0.9208</td>\n",
       "      <td>0.01%</td>\n",
       "      <td>6.4936</td>\n",
       "      <td>0.00%</td>\n",
       "      <td>120.33</td>\n",
       "      <td>0.01%</td>\n",
       "    </tr>\n",
       "    <tr>\n",
       "      <th>04/01/2016</th>\n",
       "      <td>0.6794</td>\n",
       "      <td>0.19%</td>\n",
       "      <td>0.9232</td>\n",
       "      <td>0.26%</td>\n",
       "      <td>6.5354</td>\n",
       "      <td>0.64%</td>\n",
       "      <td>119.44</td>\n",
       "      <td>-0.74%</td>\n",
       "    </tr>\n",
       "    <tr>\n",
       "      <th>05/01/2016</th>\n",
       "      <td>0.6815</td>\n",
       "      <td>0.31%</td>\n",
       "      <td>0.9304</td>\n",
       "      <td>0.78%</td>\n",
       "      <td>6.5148</td>\n",
       "      <td>-0.32%</td>\n",
       "      <td>119.06</td>\n",
       "      <td>-0.32%</td>\n",
       "    </tr>\n",
       "    <tr>\n",
       "      <th>06/01/2016</th>\n",
       "      <td>0.6836</td>\n",
       "      <td>0.31%</td>\n",
       "      <td>0.9275</td>\n",
       "      <td>-0.31%</td>\n",
       "      <td>6.5566</td>\n",
       "      <td>0.64%</td>\n",
       "      <td>118.47</td>\n",
       "      <td>-0.50%</td>\n",
       "    </tr>\n",
       "    <tr>\n",
       "      <th>07/01/2016</th>\n",
       "      <td>0.6841</td>\n",
       "      <td>0.07%</td>\n",
       "      <td>0.9144</td>\n",
       "      <td>-1.41%</td>\n",
       "      <td>6.5929</td>\n",
       "      <td>0.55%</td>\n",
       "      <td>117.68</td>\n",
       "      <td>-0.67%</td>\n",
       "    </tr>\n",
       "    <tr>\n",
       "      <th>...</th>\n",
       "      <td>...</td>\n",
       "      <td>...</td>\n",
       "      <td>...</td>\n",
       "      <td>...</td>\n",
       "      <td>...</td>\n",
       "      <td>...</td>\n",
       "      <td>...</td>\n",
       "      <td>...</td>\n",
       "    </tr>\n",
       "    <tr>\n",
       "      <th>27/12/2021</th>\n",
       "      <td>0.7438</td>\n",
       "      <td>-0.42%</td>\n",
       "      <td>0.8826</td>\n",
       "      <td>-0.08%</td>\n",
       "      <td>6.3705</td>\n",
       "      <td>0.05%</td>\n",
       "      <td>114.83</td>\n",
       "      <td>0.37%</td>\n",
       "    </tr>\n",
       "    <tr>\n",
       "      <th>28/12/2021</th>\n",
       "      <td>0.7442</td>\n",
       "      <td>0.05%</td>\n",
       "      <td>0.8839</td>\n",
       "      <td>0.15%</td>\n",
       "      <td>6.3684</td>\n",
       "      <td>-0.03%</td>\n",
       "      <td>114.81</td>\n",
       "      <td>-0.02%</td>\n",
       "    </tr>\n",
       "    <tr>\n",
       "      <th>29/12/2021</th>\n",
       "      <td>0.7412</td>\n",
       "      <td>-0.40%</td>\n",
       "      <td>0.8809</td>\n",
       "      <td>-0.34%</td>\n",
       "      <td>6.3680</td>\n",
       "      <td>-0.01%</td>\n",
       "      <td>114.94</td>\n",
       "      <td>0.11%</td>\n",
       "    </tr>\n",
       "    <tr>\n",
       "      <th>30/12/2021</th>\n",
       "      <td>0.7409</td>\n",
       "      <td>-0.04%</td>\n",
       "      <td>0.8829</td>\n",
       "      <td>0.23%</td>\n",
       "      <td>6.3691</td>\n",
       "      <td>0.02%</td>\n",
       "      <td>115.06</td>\n",
       "      <td>0.10%</td>\n",
       "    </tr>\n",
       "    <tr>\n",
       "      <th>31/12/2021</th>\n",
       "      <td>0.7389</td>\n",
       "      <td>-0.27%</td>\n",
       "      <td>0.8794</td>\n",
       "      <td>-0.40%</td>\n",
       "      <td>6.3521</td>\n",
       "      <td>-0.27%</td>\n",
       "      <td>115.08</td>\n",
       "      <td>0.02%</td>\n",
       "    </tr>\n",
       "  </tbody>\n",
       "</table>\n",
       "<p>1550 rows × 8 columns</p>\n",
       "</div>"
      ],
      "text/plain": [
       "            usd_gbp usd_gbp_ %  usd_eur usd_eur_%  usd_yuan usd_yuan_%  \\\n",
       "date                                                                     \n",
       "01/01/2016   0.6781     -0.04%   0.9208     0.01%    6.4936      0.00%   \n",
       "04/01/2016   0.6794      0.19%   0.9232     0.26%    6.5354      0.64%   \n",
       "05/01/2016   0.6815      0.31%   0.9304     0.78%    6.5148     -0.32%   \n",
       "06/01/2016   0.6836      0.31%   0.9275    -0.31%    6.5566      0.64%   \n",
       "07/01/2016   0.6841      0.07%   0.9144    -1.41%    6.5929      0.55%   \n",
       "...             ...        ...      ...       ...       ...        ...   \n",
       "27/12/2021   0.7438     -0.42%   0.8826    -0.08%    6.3705      0.05%   \n",
       "28/12/2021   0.7442      0.05%   0.8839     0.15%    6.3684     -0.03%   \n",
       "29/12/2021   0.7412     -0.40%   0.8809    -0.34%    6.3680     -0.01%   \n",
       "30/12/2021   0.7409     -0.04%   0.8829     0.23%    6.3691      0.02%   \n",
       "31/12/2021   0.7389     -0.27%   0.8794    -0.40%    6.3521     -0.27%   \n",
       "\n",
       "            usd_yen usd_yen_ %  \n",
       "date                            \n",
       "01/01/2016   120.33      0.01%  \n",
       "04/01/2016   119.44     -0.74%  \n",
       "05/01/2016   119.06     -0.32%  \n",
       "06/01/2016   118.47     -0.50%  \n",
       "07/01/2016   117.68     -0.67%  \n",
       "...             ...        ...  \n",
       "27/12/2021   114.83      0.37%  \n",
       "28/12/2021   114.81     -0.02%  \n",
       "29/12/2021   114.94      0.11%  \n",
       "30/12/2021   115.06      0.10%  \n",
       "31/12/2021   115.08      0.02%  \n",
       "\n",
       "[1550 rows x 8 columns]"
      ]
     },
     "execution_count": 313,
     "metadata": {},
     "output_type": "execute_result"
    }
   ],
   "source": [
    "curr_df"
   ]
  },
  {
   "cell_type": "markdown",
   "id": "98fabc21",
   "metadata": {},
   "source": [
    "# CURRENCIES AND COMM concat "
   ]
  },
  {
   "cell_type": "markdown",
   "id": "2dfc9bd5",
   "metadata": {},
   "source": [
    "In order to have the same rows and dates to compare"
   ]
  },
  {
   "cell_type": "code",
   "execution_count": 217,
   "id": "c4fde770",
   "metadata": {},
   "outputs": [],
   "source": [
    "main_df = pd.merge(curr_df,comm_df,how=\"inner\",on='date')"
   ]
  },
  {
   "cell_type": "markdown",
   "id": "bdbb40dc",
   "metadata": {},
   "source": [
    "# INTEREST RATE INDEXES "
   ]
  },
  {
   "cell_type": "code",
   "execution_count": 250,
   "id": "42ffe995",
   "metadata": {},
   "outputs": [],
   "source": [
    "import pandas as pd \n",
    "libor = pd.read_csv(\"../data/LIBOR_16-21.csv\")\n",
    "eonia = pd.read_csv(\"../data/eonia_16-21.csv\")\n",
    "fed = pd.read_csv(\"../data/fed-funds-rate-16-21.csv\")\n",
    "# Create a list of indexes to concat, ast hey have the smae days of cotization)\n",
    "interest_list = [libor, eonia,fed]"
   ]
  },
  {
   "cell_type": "code",
   "execution_count": 251,
   "id": "e044e98c",
   "metadata": {},
   "outputs": [],
   "source": [
    "# convert date columun to datetime object and set it as index \n",
    "libor['date'] = pd.to_datetime(libor['date'])\n",
    "libor['date'] = libor['date'].dt.strftime('%d/%m/%Y')\n",
    "libor = libor.set_index('date')\n",
    "\n",
    "eonia['date'] = pd.to_datetime(eonia['date'])\n",
    "eonia['date'] = eonia['date'].dt.strftime('%d/%m/%Y')\n",
    "eonia = eonia.set_index('date')\n",
    "\n",
    "fed['date'] = pd.to_datetime(fed['date'])\n",
    "fed['date'] = fed['date'].dt.strftime('%d/%m/%Y')\n",
    "fed = fed.set_index('date')"
   ]
  },
  {
   "cell_type": "code",
   "execution_count": 253,
   "id": "97a65a50",
   "metadata": {},
   "outputs": [],
   "source": [
    "rates_1 =  pd.merge(libor,eonia,how=\"inner\",on='date')"
   ]
  },
  {
   "cell_type": "code",
   "execution_count": 254,
   "id": "51969773",
   "metadata": {},
   "outputs": [],
   "source": [
    "rates =  pd.merge(rates_1,fed,how=\"inner\",on='date')"
   ]
  },
  {
   "cell_type": "markdown",
   "id": "079df2c5",
   "metadata": {},
   "source": [
    "# Merge rates with main DF "
   ]
  },
  {
   "cell_type": "code",
   "execution_count": 257,
   "id": "1d826d53",
   "metadata": {},
   "outputs": [],
   "source": [
    "main_=  pd.merge(main_df,rates,how=\"inner\",on='date')"
   ]
  },
  {
   "cell_type": "markdown",
   "id": "7ca26cc1",
   "metadata": {},
   "source": [
    "# Merge cryptos with main DF"
   ]
  },
  {
   "cell_type": "code",
   "execution_count": 318,
   "id": "10fceec6",
   "metadata": {},
   "outputs": [],
   "source": [
    "BTC = pd.read_csv(\"../final_data/btc.csv\")\n",
    "LTC = pd.read_csv(\"../final_data/ltc.csv\")\n",
    "ETH = pd.read_csv(\"../final_data/eth.csv\")\n",
    "XRP = pd.read_csv(\"../final_data/xrp.csv\")\n",
    "DOGE = pd.read_csv(\"../final_data/doge.csv\")"
   ]
  },
  {
   "cell_type": "code",
   "execution_count": 324,
   "id": "9cc576fa",
   "metadata": {},
   "outputs": [
    {
     "data": {
      "text/html": [
       "<div>\n",
       "<style scoped>\n",
       "    .dataframe tbody tr th:only-of-type {\n",
       "        vertical-align: middle;\n",
       "    }\n",
       "\n",
       "    .dataframe tbody tr th {\n",
       "        vertical-align: top;\n",
       "    }\n",
       "\n",
       "    .dataframe thead th {\n",
       "        text-align: right;\n",
       "    }\n",
       "</style>\n",
       "<table border=\"1\" class=\"dataframe\">\n",
       "  <thead>\n",
       "    <tr style=\"text-align: right;\">\n",
       "      <th></th>\n",
       "      <th>close_price</th>\n",
       "    </tr>\n",
       "    <tr>\n",
       "      <th>date</th>\n",
       "      <th></th>\n",
       "    </tr>\n",
       "  </thead>\n",
       "  <tbody>\n",
       "    <tr>\n",
       "      <th>01/01/2016</th>\n",
       "      <td>431.31000</td>\n",
       "    </tr>\n",
       "    <tr>\n",
       "      <th>02/01/2016</th>\n",
       "      <td>431.50530</td>\n",
       "    </tr>\n",
       "    <tr>\n",
       "      <th>03/01/2016</th>\n",
       "      <td>434.98000</td>\n",
       "    </tr>\n",
       "    <tr>\n",
       "      <th>04/01/2016</th>\n",
       "      <td>426.57000</td>\n",
       "    </tr>\n",
       "    <tr>\n",
       "      <th>05/01/2016</th>\n",
       "      <td>431.08414</td>\n",
       "    </tr>\n",
       "    <tr>\n",
       "      <th>...</th>\n",
       "      <td>...</td>\n",
       "    </tr>\n",
       "    <tr>\n",
       "      <th>27/12/2021</th>\n",
       "      <td>50797.30000</td>\n",
       "    </tr>\n",
       "    <tr>\n",
       "      <th>28/12/2021</th>\n",
       "      <td>50687.40000</td>\n",
       "    </tr>\n",
       "    <tr>\n",
       "      <th>29/12/2021</th>\n",
       "      <td>47548.10000</td>\n",
       "    </tr>\n",
       "    <tr>\n",
       "      <th>30/12/2021</th>\n",
       "      <td>46473.20000</td>\n",
       "    </tr>\n",
       "    <tr>\n",
       "      <th>31/12/2021</th>\n",
       "      <td>47143.80000</td>\n",
       "    </tr>\n",
       "  </tbody>\n",
       "</table>\n",
       "<p>2191 rows × 1 columns</p>\n",
       "</div>"
      ],
      "text/plain": [
       "            close_price\n",
       "date                   \n",
       "01/01/2016    431.31000\n",
       "02/01/2016    431.50530\n",
       "03/01/2016    434.98000\n",
       "04/01/2016    426.57000\n",
       "05/01/2016    431.08414\n",
       "...                 ...\n",
       "27/12/2021  50797.30000\n",
       "28/12/2021  50687.40000\n",
       "29/12/2021  47548.10000\n",
       "30/12/2021  46473.20000\n",
       "31/12/2021  47143.80000\n",
       "\n",
       "[2191 rows x 1 columns]"
      ]
     },
     "execution_count": 324,
     "metadata": {},
     "output_type": "execute_result"
    }
   ],
   "source": []
  },
  {
   "cell_type": "code",
   "execution_count": 319,
   "id": "b672fa35",
   "metadata": {},
   "outputs": [],
   "source": [
    "# Convert date column to desired data type:\n",
    "XRP[\"Date\"] = pd.to_datetime(XRP[\"Date\"],infer_datetime_format=True)\n",
    "XRP['Date'] = XRP['Date'].dt.normalize()\n",
    "\n",
    "DOGE[\"Date\"] = pd.to_datetime(DOGE[\"Date\"],infer_datetime_format=True)\n",
    "DOGE['Date'] = DOGE['Date'].dt.normalize()\n",
    "\n",
    "# Drop 'Unnamed:0' column: \n",
    "BTC = BTC.drop('Unnamed: 0', axis=1)\n",
    "LTC = LTC.drop('Unnamed: 0', axis=1)\n",
    "ETH = ETH.drop('Unnamed: 0', axis=1)\n",
    "XRP = XRP.drop('Unnamed: 0', axis=1)\n",
    "DOGE = DOGE.drop('Unnamed: 0', axis=1)\n"
   ]
  },
  {
   "cell_type": "code",
   "execution_count": 320,
   "id": "aa9a5634",
   "metadata": {},
   "outputs": [],
   "source": [
    "# Convert date column to desired format:\n",
    "BTC['date'] = pd.to_datetime(BTC['date'])\n",
    "BTC['date'] = BTC['date'].dt.strftime('%d/%m/%Y')\n",
    "LTC['date'] = pd.to_datetime(LTC['date'])\n",
    "LTC['date'] = LTC['date'].dt.strftime('%d/%m/%Y')\n",
    "ETH['date'] = pd.to_datetime(ETH['date'])\n",
    "ETH['date'] = ETH['date'].dt.strftime('%d/%m/%Y')\n",
    "XRP['~Date'] = pd.to_datetime(XRP['Date'])\n",
    "XRP['Date'] = XRP['Date'].dt.strftime('%d/%m/%Y')\n",
    "DOGE['Date'] = pd.to_datetime(DOGE['Date'])\n",
    "DOGE['Date'] = DOGE['Date'].dt.strftime('%d/%m/%Y')\n",
    "# Set date column as index to merge and have the same days of trade: \n",
    "BTC = BTC.set_index('date')\n",
    "LTC = LTC.set_index('date')\n",
    "ETH = ETH.set_index('date')\n",
    "XRP = XRP.set_index('Date')\n",
    "DOGE= DOGE.set_index('Date')"
   ]
  },
  {
   "cell_type": "code",
   "execution_count": 321,
   "id": "7a932866",
   "metadata": {},
   "outputs": [],
   "source": [
    "crypto_list = [BTC,LTC,ETH, XRP,DOGE]"
   ]
  },
  {
   "cell_type": "code",
   "execution_count": 322,
   "id": "dbc3348d",
   "metadata": {},
   "outputs": [],
   "source": [
    "cryptos = pd.concat(crypto_list,axis=1,join=\"inner\",ignore_index=False,sort=False, copy=False)\n",
    "\n"
   ]
  },
  {
   "cell_type": "code",
   "execution_count": 323,
   "id": "e27399ab",
   "metadata": {},
   "outputs": [
    {
     "data": {
      "text/html": [
       "<div>\n",
       "<style scoped>\n",
       "    .dataframe tbody tr th:only-of-type {\n",
       "        vertical-align: middle;\n",
       "    }\n",
       "\n",
       "    .dataframe tbody tr th {\n",
       "        vertical-align: top;\n",
       "    }\n",
       "\n",
       "    .dataframe thead th {\n",
       "        text-align: right;\n",
       "    }\n",
       "</style>\n",
       "<table border=\"1\" class=\"dataframe\">\n",
       "  <thead>\n",
       "    <tr style=\"text-align: right;\">\n",
       "      <th></th>\n",
       "      <th>close_price</th>\n",
       "      <th>close_price</th>\n",
       "      <th>close_price</th>\n",
       "      <th>xrp_p</th>\n",
       "      <th>~Date</th>\n",
       "      <th>doge_p</th>\n",
       "    </tr>\n",
       "  </thead>\n",
       "  <tbody>\n",
       "    <tr>\n",
       "      <th>01/01/2016</th>\n",
       "      <td>431.31000</td>\n",
       "      <td>3.48010</td>\n",
       "      <td>0.94885</td>\n",
       "      <td>0.005955</td>\n",
       "      <td>2016-01-01</td>\n",
       "      <td>0.000154</td>\n",
       "    </tr>\n",
       "    <tr>\n",
       "      <th>02/01/2016</th>\n",
       "      <td>431.50530</td>\n",
       "      <td>3.48500</td>\n",
       "      <td>0.92037</td>\n",
       "      <td>0.006542</td>\n",
       "      <td>2016-01-02</td>\n",
       "      <td>0.000270</td>\n",
       "    </tr>\n",
       "    <tr>\n",
       "      <th>03/01/2016</th>\n",
       "      <td>434.98000</td>\n",
       "      <td>3.50000</td>\n",
       "      <td>0.95000</td>\n",
       "      <td>0.008006</td>\n",
       "      <td>2016-01-03</td>\n",
       "      <td>0.000249</td>\n",
       "    </tr>\n",
       "    <tr>\n",
       "      <th>04/01/2016</th>\n",
       "      <td>426.57000</td>\n",
       "      <td>3.49300</td>\n",
       "      <td>0.96000</td>\n",
       "      <td>0.007418</td>\n",
       "      <td>2016-01-04</td>\n",
       "      <td>0.000224</td>\n",
       "    </tr>\n",
       "    <tr>\n",
       "      <th>05/01/2016</th>\n",
       "      <td>431.08414</td>\n",
       "      <td>3.43589</td>\n",
       "      <td>0.00000</td>\n",
       "      <td>0.006791</td>\n",
       "      <td>2016-01-05</td>\n",
       "      <td>0.000226</td>\n",
       "    </tr>\n",
       "    <tr>\n",
       "      <th>...</th>\n",
       "      <td>...</td>\n",
       "      <td>...</td>\n",
       "      <td>...</td>\n",
       "      <td>...</td>\n",
       "      <td>...</td>\n",
       "      <td>...</td>\n",
       "    </tr>\n",
       "    <tr>\n",
       "      <th>27/12/2021</th>\n",
       "      <td>50797.30000</td>\n",
       "      <td>156.00000</td>\n",
       "      <td>4064.33000</td>\n",
       "      <td>0.926184</td>\n",
       "      <td>2021-12-27</td>\n",
       "      <td>0.926184</td>\n",
       "    </tr>\n",
       "    <tr>\n",
       "      <th>28/12/2021</th>\n",
       "      <td>50687.40000</td>\n",
       "      <td>155.84000</td>\n",
       "      <td>4038.76000</td>\n",
       "      <td>0.852960</td>\n",
       "      <td>2021-12-28</td>\n",
       "      <td>0.852960</td>\n",
       "    </tr>\n",
       "    <tr>\n",
       "      <th>29/12/2021</th>\n",
       "      <td>47548.10000</td>\n",
       "      <td>145.64000</td>\n",
       "      <td>3792.09000</td>\n",
       "      <td>0.816714</td>\n",
       "      <td>2021-12-29</td>\n",
       "      <td>0.816714</td>\n",
       "    </tr>\n",
       "    <tr>\n",
       "      <th>30/12/2021</th>\n",
       "      <td>46473.20000</td>\n",
       "      <td>145.48000</td>\n",
       "      <td>3628.29000</td>\n",
       "      <td>0.839649</td>\n",
       "      <td>2021-12-30</td>\n",
       "      <td>0.839649</td>\n",
       "    </tr>\n",
       "    <tr>\n",
       "      <th>31/12/2021</th>\n",
       "      <td>47143.80000</td>\n",
       "      <td>148.06000</td>\n",
       "      <td>3710.00000</td>\n",
       "      <td>0.831163</td>\n",
       "      <td>2021-12-31</td>\n",
       "      <td>0.831163</td>\n",
       "    </tr>\n",
       "  </tbody>\n",
       "</table>\n",
       "<p>2191 rows × 6 columns</p>\n",
       "</div>"
      ],
      "text/plain": [
       "            close_price  close_price  close_price     xrp_p      ~Date  \\\n",
       "01/01/2016    431.31000      3.48010      0.94885  0.005955 2016-01-01   \n",
       "02/01/2016    431.50530      3.48500      0.92037  0.006542 2016-01-02   \n",
       "03/01/2016    434.98000      3.50000      0.95000  0.008006 2016-01-03   \n",
       "04/01/2016    426.57000      3.49300      0.96000  0.007418 2016-01-04   \n",
       "05/01/2016    431.08414      3.43589      0.00000  0.006791 2016-01-05   \n",
       "...                 ...          ...          ...       ...        ...   \n",
       "27/12/2021  50797.30000    156.00000   4064.33000  0.926184 2021-12-27   \n",
       "28/12/2021  50687.40000    155.84000   4038.76000  0.852960 2021-12-28   \n",
       "29/12/2021  47548.10000    145.64000   3792.09000  0.816714 2021-12-29   \n",
       "30/12/2021  46473.20000    145.48000   3628.29000  0.839649 2021-12-30   \n",
       "31/12/2021  47143.80000    148.06000   3710.00000  0.831163 2021-12-31   \n",
       "\n",
       "              doge_p  \n",
       "01/01/2016  0.000154  \n",
       "02/01/2016  0.000270  \n",
       "03/01/2016  0.000249  \n",
       "04/01/2016  0.000224  \n",
       "05/01/2016  0.000226  \n",
       "...              ...  \n",
       "27/12/2021  0.926184  \n",
       "28/12/2021  0.852960  \n",
       "29/12/2021  0.816714  \n",
       "30/12/2021  0.839649  \n",
       "31/12/2021  0.831163  \n",
       "\n",
       "[2191 rows x 6 columns]"
      ]
     },
     "execution_count": 323,
     "metadata": {},
     "output_type": "execute_result"
    }
   ],
   "source": [
    "cryptos "
   ]
  },
  {
   "cell_type": "code",
   "execution_count": null,
   "id": "3459dda0",
   "metadata": {},
   "outputs": [],
   "source": []
  },
  {
   "cell_type": "code",
   "execution_count": null,
   "id": "8e2fb455",
   "metadata": {},
   "outputs": [],
   "source": []
  },
  {
   "cell_type": "code",
   "execution_count": null,
   "id": "94b36eae",
   "metadata": {},
   "outputs": [],
   "source": []
  },
  {
   "cell_type": "code",
   "execution_count": null,
   "id": "e59408ed",
   "metadata": {},
   "outputs": [],
   "source": []
  }
 ],
 "metadata": {
  "kernelspec": {
   "display_name": "Python 3 (ipykernel)",
   "language": "python",
   "name": "python3"
  },
  "language_info": {
   "codemirror_mode": {
    "name": "ipython",
    "version": 3
   },
   "file_extension": ".py",
   "mimetype": "text/x-python",
   "name": "python",
   "nbconvert_exporter": "python",
   "pygments_lexer": "ipython3",
   "version": "3.9.7"
  }
 },
 "nbformat": 4,
 "nbformat_minor": 5
}
