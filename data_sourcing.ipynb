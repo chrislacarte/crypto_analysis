{
 "cells": [
  {
   "cell_type": "code",
   "execution_count": 1,
   "id": "6b740844",
   "metadata": {},
   "outputs": [],
   "source": [
    "import requests\n",
    "import pandas as pd\n",
    "import numpy as np\n",
    "import time \n",
    "import json\n",
    "import os\n",
    "from datetime import datetime, timedelta"
   ]
  },
  {
   "cell_type": "markdown",
   "id": "b145ce74",
   "metadata": {},
   "source": [
    "# REQUEST AND CLEAN API "
   ]
  },
  {
   "cell_type": "markdown",
   "id": "87c95814",
   "metadata": {},
   "source": [
    "Practice with the API to understand the requests and results"
   ]
  },
  {
   "cell_type": "code",
   "execution_count": 2,
   "id": "ee236789",
   "metadata": {},
   "outputs": [],
   "source": [
    "# API requests: \n",
    "btc = requests.get(\"https://api.cryptowat.ch/markets/kraken/btcusd/ohlc?periods=86400&apikey=XVGSK3GTQSR4WA9W8XY7\")\n",
    "#Jsonize\n",
    "btc = btc.json()\n",
    "\n",
    "# btc['result']['86400']\n",
    "\n",
    "# Convert jsonized lists to DF \n",
    "btc = pd.DataFrame(btc['result']['86400'])\n",
    "\n",
    "# Rename DF columns \n",
    "btc.columns = ['date', 'open_price', 'hi_price', 'lo_price', 'close_price', 'vol', 'quote_vol']\n",
    "\n",
    "# Select only date and closing value \n",
    "btc = btc[['date','close_price']]\n",
    "\n",
    "# Convert Epoch time (secs since 1970) into datetime object\n",
    "btc['date'] = pd.to_datetime(btc['date'], unit='s')\n",
    "\n",
    "#Select date range from 2016 - 2021\n",
    "BTC = (btc.loc[btc[\"date\"].between(\"2016-01-01\", \"2021-12-31\")]).reset_index(drop=True)\n"
   ]
  },
  {
   "cell_type": "markdown",
   "id": "0f4b52af",
   "metadata": {},
   "source": [
    "# CLEAN API DATA FUNCTION"
   ]
  },
  {
   "cell_type": "code",
   "execution_count": 3,
   "id": "0fb96868",
   "metadata": {},
   "outputs": [],
   "source": [
    "def clean_api_request(req): #Inouts a cryptowatch API request\n",
    "    req = req.json()\n",
    "    # Convert jsonized lists to DF \n",
    "    req = pd.DataFrame(req['result']['86400'])\n",
    "    # Rename DF columns \n",
    "    req.columns = ['date', 'open_price', 'hi_price', 'lo_price', 'close_price', 'vol', 'quote_vol']\n",
    "    # Select only date and closing value \n",
    "    req = req[['date','close_price']]\n",
    "    # Convert Epoch time (secs since 1970) into datetime object\n",
    "    req['date'] = pd.to_datetime(req['date'], unit='s')\n",
    "    #Select date range from 2016 - 2021\n",
    "    req = (req.loc[req[\"date\"].between(\"2016-01-01\", \"2021-12-31\")]).reset_index(drop=True)\n",
    "    return req # returns a DF with date and daily close cryptocurrency price for every request"
   ]
  },
  {
   "cell_type": "markdown",
   "id": "3183ff82",
   "metadata": {},
   "source": [
    "# CRYPTO API REQUESTS AND DATA SAVING"
   ]
  },
  {
   "cell_type": "code",
   "execution_count": 4,
   "id": "ac112a23",
   "metadata": {},
   "outputs": [],
   "source": [
    "BTC = requests.get(\"https://api.cryptowat.ch/markets/kraken/btcusd/ohlc?periods=86400&apikey=XVGSK3GTQSR4WA9W8XY7\")\n",
    "LTC = requests.get(\"https://api.cryptowat.ch/markets/kraken/ltcusd/ohlc?periods=86400&apikey=XVGSK3GTQSR4WA9W8XY7\")\n",
    "ETH = requests.get(\"https://api.cryptowat.ch/markets/kraken/ethusd/ohlc?periods=86400&apikey=XVGSK3GTQSR4WA9W8XY7\") \n",
    "XRP = requests.get(\"https://api.cryptowat.ch/markets/kraken/xrpusd/ohlc?periods=86400&apikey=XVGSK3GTQSR4WA9W8XY7\") \n",
    "DOGE = requests.get(\"https://api.cryptowat.ch/markets/kraken/dogeusd/ohlc?periods=86400&apikey=XVGSK3GTQSR4WA9W8XY7\") "
   ]
  },
  {
   "cell_type": "markdown",
   "id": "257ab947",
   "metadata": {},
   "source": [
    "XRP and Doge are missing some historiucal data when pulling the API data, there are no records there before 2017, may be becayse the value for those crypto  was too low.\n",
    "\n",
    "XRP had only 1687 rows (days of trade, so missing before 2017ish) \n",
    "\n",
    "DOGE has onlky 743 rows \n",
    "\n",
    "I found historical for those 2 cryptos in Kaggle. \n",
    "https://www.kaggle.com/datasets/sudalairajkumar/cryptocurrencypricehistory?resource=download&select=coin_XRP.csv"
   ]
  },
  {
   "cell_type": "code",
   "execution_count": 5,
   "id": "a831e2af",
   "metadata": {},
   "outputs": [],
   "source": [
    "# Pass the API results through the cleaning function\n",
    "BTC = clean_api_request(BTC)\n",
    "LTC = clean_api_request(LTC)\n",
    "ETH = clean_api_request(ETH)\n",
    "#XRP and DPOGE data pulled from Kaggle \n",
    "XRP = pd.read_csv(\"../data/XRP_p_16-21.csv\")\n",
    "DOGE = pd.read_csv(\"../data/dogecoin_p_16_21.csv\")"
   ]
  },
  {
   "cell_type": "code",
   "execution_count": 6,
   "id": "e1dba5fc",
   "metadata": {},
   "outputs": [],
   "source": [
    "# Change column names \n",
    "BTC = BTC.rename(columns={\"close_price\": \"btc_p\"})\n",
    "LTC = LTC.rename(columns={\"close_price\": \"ltc_p\"})\n",
    "ETH = ETH.rename(columns={\"close_price\": \"eth_p\"})"
   ]
  },
  {
   "cell_type": "code",
   "execution_count": 7,
   "id": "0a8d40a0",
   "metadata": {},
   "outputs": [],
   "source": [
    "#save to csv\n",
    "BTC.to_csv(\"../final_data/btc.csv\")\n",
    "LTC.to_csv(\"../final_data/ltc.csv\")\n",
    "ETH.to_csv(\"../final_data/eth.csv\")\n",
    "XRP.to_csv(\"../final_data/xrp.csv\")\n",
    "DOGE.to_csv(\"../final_data/doge.csv\")"
   ]
  },
  {
   "cell_type": "markdown",
   "id": "c02458bc",
   "metadata": {},
   "source": [
    "# COMODITIES "
   ]
  },
  {
   "cell_type": "code",
   "execution_count": 9,
   "id": "fed469f8",
   "metadata": {},
   "outputs": [],
   "source": [
    "OIL_BRENT = pd.read_csv(\"../data/brent-crude-oil-prices-16-21.csv\")\n",
    "OIL_WTI = pd.read_csv(\"../data/WTI_oil_prices_16-21.csv\")\n",
    "GOLD = pd.read_csv(\"../data/gold_prices_16-21.csv\")\n",
    "SILVER = pd.read_csv(\"../data/silver_prices_16-21.csv\")\n",
    "STEEL = pd.read_csv(\"../data/Steel_prices_16-21.csv\")\n",
    "\n",
    "com_list = [OIL_WTI, OIL_BRENT, GOLD, SILVER,STEEL]  # List of commodity dataframes"
   ]
  },
  {
   "cell_type": "code",
   "execution_count": 10,
   "id": "c4a0615a",
   "metadata": {},
   "outputs": [],
   "source": [
    "# We convert 'date' column into the index to merge later with other DFs\n",
    "OIL_WTI = OIL_WTI.set_index('date')\n",
    "OIL_BRENT = OIL_BRENT.set_index('date')\n",
    "GOLD = GOLD.set_index('date')\n",
    "SILVER = SILVER.set_index('date')\n",
    "STEEL = STEEL.set_index('date')"
   ]
  },
  {
   "cell_type": "code",
   "execution_count": 11,
   "id": "f389beef",
   "metadata": {},
   "outputs": [],
   "source": [
    "# Merging DF\n",
    "merge=pd.merge(OIL_WTI,OIL_BRENT, how='inner', left_index=True, right_index=True)\n",
    "merge_2 = pd.merge(merge,GOLD, how='inner', left_index=True, right_index=True)\n",
    "merge_3 = pd.merge(merge_2,SILVER, how='inner', left_index=True, right_index=True)\n",
    "comm_df = pd.merge(merge_3,STEEL, how='inner', left_index=True, right_index=True)"
   ]
  },
  {
   "cell_type": "markdown",
   "id": "790c2a96",
   "metadata": {},
   "source": [
    "# CURRENCIES (£-USD, EURO-USD, USD-Yuan, USD-yen)"
   ]
  },
  {
   "cell_type": "code",
   "execution_count": 12,
   "id": "89928d0a",
   "metadata": {},
   "outputs": [],
   "source": [
    "gbp = pd.read_csv(\"../data/USD_GBP_16-21.csv\")\n",
    "eur = pd.read_csv(\"../data/USD_EUR_16-21.csv\")\n",
    "yua = pd.read_csv(\"../data/USD_CNY_16-21.csv\")\n",
    "yen = pd.read_csv(\"../data/USD_JPY_16-21.csv\")"
   ]
  },
  {
   "cell_type": "code",
   "execution_count": 13,
   "id": "c9af0c1c",
   "metadata": {},
   "outputs": [],
   "source": [
    "#Convert \"date\" column to desired format\n",
    "gbp['date'] = pd.to_datetime(gbp['date'])\n",
    "gbp['date'] = gbp['date'].dt.strftime('%d/%m/%Y')\n",
    "\n",
    "eur['date'] = pd.to_datetime(eur['date'])\n",
    "eur['date'] = eur['date'].dt.strftime('%d/%m/%Y')\n",
    "\n",
    "yua['date'] = pd.to_datetime(yua['date'])\n",
    "yua['date'] = yua['date'].dt.strftime('%d/%m/%Y')\n",
    "\n",
    "yen['date'] = pd.to_datetime(yen['date'])\n",
    "yen['date'] = yen['date'].dt.strftime('%d/%m/%Y')"
   ]
  },
  {
   "cell_type": "code",
   "execution_count": 14,
   "id": "52c6232a",
   "metadata": {},
   "outputs": [],
   "source": [
    "# We convert 'date' column into the index to merge later with other DFs\n",
    "gbp = gbp.set_index('date')\n",
    "eur = eur.set_index('date')\n",
    "yua = yua.set_index('date')\n",
    "yen = yen.set_index('date')\n",
    "\n",
    "currencies = [gbp,eur,yua,yen] # List of dataframes"
   ]
  },
  {
   "cell_type": "code",
   "execution_count": 15,
   "id": "bd2a0cd8",
   "metadata": {},
   "outputs": [],
   "source": [
    "# We concat the currencies in 1 DF\n",
    "curr_df = pd.concat(currencies,axis=1,join=\"inner\",ignore_index=False,sort=False, copy=False) "
   ]
  },
  {
   "cell_type": "markdown",
   "id": "98fabc21",
   "metadata": {},
   "source": [
    "# CURRENCIES AND COMM concat "
   ]
  },
  {
   "cell_type": "markdown",
   "id": "2dfc9bd5",
   "metadata": {},
   "source": [
    "In order to have the same rows and dates to compare"
   ]
  },
  {
   "cell_type": "code",
   "execution_count": 16,
   "id": "c4fde770",
   "metadata": {},
   "outputs": [],
   "source": [
    "# We merge currencies and commodities to get the same trade days\n",
    "main_df = pd.merge(curr_df,comm_df,how=\"inner\",on='date')"
   ]
  },
  {
   "cell_type": "markdown",
   "id": "bdbb40dc",
   "metadata": {},
   "source": [
    "# INTEREST RATE INDEXES "
   ]
  },
  {
   "cell_type": "code",
   "execution_count": 17,
   "id": "42ffe995",
   "metadata": {},
   "outputs": [],
   "source": [
    "# Load the files\n",
    "libor = pd.read_csv(\"../data/LIBOR_16-21.csv\")\n",
    "eonia = pd.read_csv(\"../data/eonia_16-21.csv\")\n",
    "fed = pd.read_csv(\"../data/fed-funds-rate-16-21.csv\")\n",
    "\n",
    "interest_list = [libor, eonia,fed]   # List of dataframes"
   ]
  },
  {
   "cell_type": "code",
   "execution_count": 18,
   "id": "e044e98c",
   "metadata": {},
   "outputs": [],
   "source": [
    "# convert date columun to the desired format and set it as index \n",
    "libor['date'] = pd.to_datetime(libor['date'])\n",
    "libor['date'] = libor['date'].dt.strftime('%d/%m/%Y')\n",
    "libor = libor.set_index('date')\n",
    "\n",
    "eonia['date'] = pd.to_datetime(eonia['date'])\n",
    "eonia['date'] = eonia['date'].dt.strftime('%d/%m/%Y')\n",
    "eonia = eonia.set_index('date')\n",
    "\n",
    "fed['date'] = pd.to_datetime(fed['date'])\n",
    "fed['date'] = fed['date'].dt.strftime('%d/%m/%Y')\n",
    "fed = fed.set_index('date')"
   ]
  },
  {
   "cell_type": "code",
   "execution_count": 19,
   "id": "97a65a50",
   "metadata": {},
   "outputs": [],
   "source": [
    "# We merge the DF\n",
    "rates_1 =  pd.merge(libor,eonia,how=\"inner\",on='date')\n",
    "rates =  pd.merge(rates_1,fed,how=\"inner\",on='date')"
   ]
  },
  {
   "cell_type": "code",
   "execution_count": 20,
   "id": "1d826d53",
   "metadata": {},
   "outputs": [],
   "source": [
    "# Merge rates with main DF\n",
    "main_=  pd.merge(main_df,rates,how=\"inner\",on='date')"
   ]
  },
  {
   "cell_type": "markdown",
   "id": "7ca26cc1",
   "metadata": {},
   "source": [
    "# Merge cryptos with main DF"
   ]
  },
  {
   "cell_type": "code",
   "execution_count": 43,
   "id": "10fceec6",
   "metadata": {},
   "outputs": [],
   "source": [
    "# Load the files\n",
    "BTC = pd.read_csv(\"../final_data/btc.csv\")\n",
    "LTC = pd.read_csv(\"../final_data/ltc.csv\")\n",
    "ETH = pd.read_csv(\"../final_data/eth.csv\")\n",
    "XRP = pd.read_csv(\"../final_data/xrp.csv\")\n",
    "DOGE = pd.read_csv(\"../final_data/doge.csv\")"
   ]
  },
  {
   "cell_type": "code",
   "execution_count": 42,
   "id": "31289e3e",
   "metadata": {},
   "outputs": [],
   "source": [
    "# # Rename some columns on XRP and DOGE\n",
    "# XRP = XRP.rename(columns={'Date':'date'})\n",
    "# DOGE = DOGE.rename(columns={'Date':'date'})"
   ]
  },
  {
   "cell_type": "code",
   "execution_count": 44,
   "id": "b672fa35",
   "metadata": {},
   "outputs": [],
   "source": [
    "# Convert date column to desired data type:\n",
    "BTC['date'] = pd.to_datetime(BTC['date'])\n",
    "BTC['date'] = BTC['date'].dt.strftime('%d/%m/%Y')\n",
    "\n",
    "LTC['date'] = pd.to_datetime(LTC['date'])\n",
    "LTC['date'] = LTC['date'].dt.strftime('%d/%m/%Y')\n",
    "\n",
    "ETH['date'] = pd.to_datetime(ETH['date'])\n",
    "ETH['date'] = ETH['date'].dt.strftime('%d/%m/%Y')\n",
    "\n",
    "# XRP[\"Date\"] = pd.to_datetime(XRP[\"date\"],infer_datetime_format=True)\n",
    "# XRP['Date'] = XRP['Date'].dt.normalize()\n",
    "\n",
    "XRP = XRP.rename(columns={'Date':'date'})\n",
    "XRP['date'] = pd.to_datetime(XRP[\"date\"],infer_datetime_format=True)\n",
    "XRP['date'] = XRP['date'].dt.normalize()\n",
    "XRP['date'] = XRP['date'].dt.strftime('%d/%m/%Y')\n",
    "\n",
    "DOGE = DOGE.rename(columns={'Date':'date'})\n",
    "DOGE[\"date\"] = pd.to_datetime(DOGE[\"date\"],infer_datetime_format=True)\n",
    "DOGE['date'] = DOGE['date'].dt.normalize()\n",
    "DOGE['date'] = DOGE['date'].dt.strftime('%d/%m/%Y')\n",
    "\n",
    "# Drop 'Unnamed:0' column: \n",
    "BTC = BTC.drop('Unnamed: 0', axis=1)\n",
    "LTC = LTC.drop('Unnamed: 0', axis=1)\n",
    "ETH = ETH.drop('Unnamed: 0', axis=1)\n",
    "XRP = XRP.drop('Unnamed: 0', axis=1)\n",
    "DOGE = DOGE.drop('Unnamed: 0', axis=1)\n",
    "\n",
    "# Set date column as index to merge and have the same days of trade: \n",
    "BTC = BTC.set_index('date')\n",
    "LTC = LTC.set_index('date')\n",
    "ETH = ETH.set_index('date')\n",
    "XRP = XRP.set_index('date')\n",
    "DOGE= DOGE.set_index('date')\n",
    "\n",
    "crypto_list = [BTC,LTC,ETH, XRP,DOGE]"
   ]
  },
  {
   "cell_type": "code",
   "execution_count": 59,
   "id": "dbc3348d",
   "metadata": {},
   "outputs": [],
   "source": [
    "# We concat all cryptos in 1 Df\n",
    "cryptos = pd.concat(crypto_list,axis=1,join=\"inner\",ignore_index=False,sort=False, copy=False)"
   ]
  },
  {
   "cell_type": "markdown",
   "id": "27528ceb",
   "metadata": {},
   "source": [
    "Merge all in a main DF so i have the matchin days of trade "
   ]
  },
  {
   "cell_type": "code",
   "execution_count": 60,
   "id": "8e2fb455",
   "metadata": {},
   "outputs": [],
   "source": [
    "final_df = pd.merge(cryptos,main_,how=\"inner\",on='date')"
   ]
  },
  {
   "cell_type": "markdown",
   "id": "9638dda8",
   "metadata": {},
   "source": [
    "Now that we have all the data for the sam trading days ,we can splpit the DF by columns for further analysis:"
   ]
  },
  {
   "cell_type": "code",
   "execution_count": 61,
   "id": "28ac91b3",
   "metadata": {},
   "outputs": [],
   "source": [
    "# Seprarating columns \n",
    "crypto_col = ['btc_p', 'ltc_p', 'eth_p', 'xrp_p', 'doge_p']\n",
    "currency_col = ['usd_gbp', 'usd_gbp_ %','usd_eur', 'usd_eur_%', 'usd_yuan', 'usd_yuan_%', 'usd_yen','usd_yen_ %'] \n",
    "comm_col = ['wti_oil_pprice', 'brent_oil_p', 'gold_p', 'silver_p','steel_price']\n",
    "rates_col = ['LIBOR', 'eonia', 'fed_rate']"
   ]
  },
  {
   "cell_type": "code",
   "execution_count": 62,
   "id": "e59408ed",
   "metadata": {},
   "outputs": [],
   "source": [
    "# Slicing the DF \n",
    "crypto_series = final_df[crypto_col]\n",
    "currency_series = final_df[currency_col]\n",
    "commodity_series = final_df[comm_col]\n",
    "rates_series = final_df[rates_col]"
   ]
  },
  {
   "cell_type": "code",
   "execution_count": 63,
   "id": "20fbd98b",
   "metadata": {},
   "outputs": [
    {
     "ename": "TypeError",
     "evalue": "'DataFrame' object is not callable",
     "output_type": "error",
     "traceback": [
      "\u001b[0;31m---------------------------------------------------------------------------\u001b[0m",
      "\u001b[0;31mTypeError\u001b[0m                                 Traceback (most recent call last)",
      "\u001b[0;32m/var/folders/hq/x_513gjd2qsd86w2rwvd665m0000gn/T/ipykernel_5318/3651990797.py\u001b[0m in \u001b[0;36m<module>\u001b[0;34m\u001b[0m\n\u001b[1;32m      1\u001b[0m \u001b[0;31m# Saving to cvs for further analysis\u001b[0m\u001b[0;34m\u001b[0m\u001b[0;34m\u001b[0m\u001b[0m\n\u001b[0;32m----> 2\u001b[0;31m \u001b[0mfinal_df\u001b[0m\u001b[0;34m(\u001b[0m\u001b[0;34m\"../final_data/final_df.csv\"\u001b[0m\u001b[0;34m)\u001b[0m\u001b[0;34m\u001b[0m\u001b[0;34m\u001b[0m\u001b[0m\n\u001b[0m\u001b[1;32m      3\u001b[0m \u001b[0mcrypto_series\u001b[0m\u001b[0;34m(\u001b[0m\u001b[0;34m\"../final_data/crypto_series.csv\"\u001b[0m\u001b[0;34m)\u001b[0m\u001b[0;34m\u001b[0m\u001b[0;34m\u001b[0m\u001b[0m\n\u001b[1;32m      4\u001b[0m \u001b[0mcurrency_series\u001b[0m\u001b[0;34m(\u001b[0m\u001b[0;34m\"../final_data/currency_series.csv\"\u001b[0m\u001b[0;34m)\u001b[0m\u001b[0;34m\u001b[0m\u001b[0;34m\u001b[0m\u001b[0m\n\u001b[1;32m      5\u001b[0m \u001b[0mcommodity_series\u001b[0m\u001b[0;34m(\u001b[0m\u001b[0;34m\"../final_data/commodity_series.csv\"\u001b[0m\u001b[0;34m)\u001b[0m\u001b[0;34m\u001b[0m\u001b[0;34m\u001b[0m\u001b[0m\n",
      "\u001b[0;31mTypeError\u001b[0m: 'DataFrame' object is not callable"
     ]
    }
   ],
   "source": [
    "# Saving to cvs for further analysis\n",
    "final_df(\"../final_data/final_df.csv\")\n",
    "crypto_series(\"../final_data/crypto_series.csv\")\n",
    "currency_series(\"../final_data/currency_series.csv\")\n",
    "commodity_series(\"../final_data/commodity_series.csv\")\n",
    "rates_series(\"../final_data/rates_series.csv\")"
   ]
  },
  {
   "cell_type": "code",
   "execution_count": null,
   "id": "24c47417",
   "metadata": {},
   "outputs": [],
   "source": []
  }
 ],
 "metadata": {
  "kernelspec": {
   "display_name": "Python 3 (ipykernel)",
   "language": "python",
   "name": "python3"
  },
  "language_info": {
   "codemirror_mode": {
    "name": "ipython",
    "version": 3
   },
   "file_extension": ".py",
   "mimetype": "text/x-python",
   "name": "python",
   "nbconvert_exporter": "python",
   "pygments_lexer": "ipython3",
   "version": "3.9.7"
  }
 },
 "nbformat": 4,
 "nbformat_minor": 5
}
