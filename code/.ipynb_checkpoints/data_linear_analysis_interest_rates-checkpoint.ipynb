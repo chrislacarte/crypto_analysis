{
 "cells": [
  {
   "cell_type": "markdown",
   "id": "b1c8b2c2",
   "metadata": {},
   "source": [
    "# INTEREST RATES Vs CRYPTO "
   ]
  },
  {
   "cell_type": "markdown",
   "id": "83c74165",
   "metadata": {},
   "source": [
    "# DATA ANALYSIS \n"
   ]
  },
  {
   "cell_type": "code",
   "execution_count": 1,
   "id": "29b5ced0",
   "metadata": {},
   "outputs": [
    {
     "name": "stderr",
     "output_type": "stream",
     "text": [
      "/Users/chrislacarte/opt/anaconda3/lib/python3.9/site-packages/scipy/__init__.py:146: UserWarning: A NumPy version >=1.16.5 and <1.23.0 is required for this version of SciPy (detected version 1.23.1\n",
      "  warnings.warn(f\"A NumPy version >={np_minversion} and <{np_maxversion}\"\n"
     ]
    }
   ],
   "source": [
    "import pandas as pd \n",
    "import numpy as np\n",
    "import math\n",
    "import seaborn as sns\n",
    "import matplotlib.pyplot as plt\n",
    "import warnings\n",
    "import itertools\n",
    "from sklearn.preprocessing import MinMaxScaler\n",
    "from sklearn.preprocessing import StandardScaler\n",
    "from sklearn.model_selection import train_test_split\n",
    "from sklearn import linear_model\n",
    "from sklearn.metrics import mean_squared_error\n",
    "from sklearn.metrics import r2_score\n",
    "import statsmodels.api as sm\n",
    "from sklearn.neighbors import KNeighborsRegressor\n",
    "from pandas.plotting import lag_plot\n",
    "from statsmodels.tsa.ar_model import AutoReg\n",
    "from statsmodels.tsa.stattools import adfuller\n",
    "from statsmodels.tsa.arima.model import ARIMA\n",
    "import pmdarima as pm\n",
    "from pylab import rcParams\n"
   ]
  },
  {
   "cell_type": "code",
   "execution_count": 18,
   "id": "4af87eba",
   "metadata": {},
   "outputs": [],
   "source": [
    "# Load the data \n",
    "# main_df = pd.read_csv(\"../final_data/final_df.csv\")\n",
    "crypto_df = pd.read_csv(\"../final_data/crypto_series.csv\")\n",
    "# currency_df = pd.read_csv(\"../final_data/currency_series.csv\")\n",
    "# commodity_df = pd.read_csv(\"../final_data/commodity_series.csv\")\n",
    "rates_df = pd.read_csv(\"../final_data/rates_series.csv\")"
   ]
  },
  {
   "cell_type": "markdown",
   "id": "ea41aa8e",
   "metadata": {},
   "source": [
    "Only BTC and ETH showed beuing correlated nore than 0.5"
   ]
  },
  {
   "cell_type": "code",
   "execution_count": 19,
   "id": "5d57f54e",
   "metadata": {},
   "outputs": [],
   "source": [
    "crypto_btc_eth = crypto_df[['date','btc_p',\"eth_p\"]]\n",
    "rates_df_ = pd.merge(rates_df,crypto_btc_eth,how=\"inner\",on='date')"
   ]
  },
  {
   "cell_type": "code",
   "execution_count": 20,
   "id": "1b528947",
   "metadata": {},
   "outputs": [
    {
     "data": {
      "text/html": [
       "<div>\n",
       "<style scoped>\n",
       "    .dataframe tbody tr th:only-of-type {\n",
       "        vertical-align: middle;\n",
       "    }\n",
       "\n",
       "    .dataframe tbody tr th {\n",
       "        vertical-align: top;\n",
       "    }\n",
       "\n",
       "    .dataframe thead th {\n",
       "        text-align: right;\n",
       "    }\n",
       "</style>\n",
       "<table border=\"1\" class=\"dataframe\">\n",
       "  <thead>\n",
       "    <tr style=\"text-align: right;\">\n",
       "      <th></th>\n",
       "      <th>date</th>\n",
       "      <th>LIBOR</th>\n",
       "      <th>eonia</th>\n",
       "      <th>fed_rate</th>\n",
       "      <th>btc_p</th>\n",
       "      <th>eth_p</th>\n",
       "    </tr>\n",
       "  </thead>\n",
       "  <tbody>\n",
       "    <tr>\n",
       "      <th>0</th>\n",
       "      <td>04/01/2016</td>\n",
       "      <td>0.37910</td>\n",
       "      <td>-0.335</td>\n",
       "      <td>0.37</td>\n",
       "      <td>426.57000</td>\n",
       "      <td>0.9600</td>\n",
       "    </tr>\n",
       "    <tr>\n",
       "      <th>1</th>\n",
       "      <td>06/01/2016</td>\n",
       "      <td>0.38550</td>\n",
       "      <td>-0.333</td>\n",
       "      <td>0.37</td>\n",
       "      <td>431.32000</td>\n",
       "      <td>0.9426</td>\n",
       "    </tr>\n",
       "    <tr>\n",
       "      <th>2</th>\n",
       "      <td>07/01/2016</td>\n",
       "      <td>0.40610</td>\n",
       "      <td>-0.321</td>\n",
       "      <td>0.41</td>\n",
       "      <td>429.99000</td>\n",
       "      <td>0.9500</td>\n",
       "    </tr>\n",
       "    <tr>\n",
       "      <th>3</th>\n",
       "      <td>08/01/2016</td>\n",
       "      <td>0.41440</td>\n",
       "      <td>-0.330</td>\n",
       "      <td>0.40</td>\n",
       "      <td>457.88354</td>\n",
       "      <td>0.9400</td>\n",
       "    </tr>\n",
       "    <tr>\n",
       "      <th>4</th>\n",
       "      <td>11/01/2016</td>\n",
       "      <td>0.43456</td>\n",
       "      <td>-0.348</td>\n",
       "      <td>0.41</td>\n",
       "      <td>449.13000</td>\n",
       "      <td>1.0000</td>\n",
       "    </tr>\n",
       "    <tr>\n",
       "      <th>...</th>\n",
       "      <td>...</td>\n",
       "      <td>...</td>\n",
       "      <td>...</td>\n",
       "      <td>...</td>\n",
       "      <td>...</td>\n",
       "      <td>...</td>\n",
       "    </tr>\n",
       "    <tr>\n",
       "      <th>1282</th>\n",
       "      <td>20/12/2021</td>\n",
       "      <td>0.07250</td>\n",
       "      <td>-0.491</td>\n",
       "      <td>0.08</td>\n",
       "      <td>46688.40000</td>\n",
       "      <td>3924.3700</td>\n",
       "    </tr>\n",
       "    <tr>\n",
       "      <th>1283</th>\n",
       "      <td>21/12/2021</td>\n",
       "      <td>0.07288</td>\n",
       "      <td>-0.486</td>\n",
       "      <td>0.08</td>\n",
       "      <td>46898.10000</td>\n",
       "      <td>3941.8200</td>\n",
       "    </tr>\n",
       "    <tr>\n",
       "      <th>1284</th>\n",
       "      <td>22/12/2021</td>\n",
       "      <td>0.07050</td>\n",
       "      <td>-0.489</td>\n",
       "      <td>0.08</td>\n",
       "      <td>48925.90000</td>\n",
       "      <td>4018.2000</td>\n",
       "    </tr>\n",
       "    <tr>\n",
       "      <th>1285</th>\n",
       "      <td>23/12/2021</td>\n",
       "      <td>0.07513</td>\n",
       "      <td>-0.491</td>\n",
       "      <td>0.08</td>\n",
       "      <td>48624.90000</td>\n",
       "      <td>3980.4400</td>\n",
       "    </tr>\n",
       "    <tr>\n",
       "      <th>1286</th>\n",
       "      <td>29/12/2021</td>\n",
       "      <td>0.07275</td>\n",
       "      <td>-0.493</td>\n",
       "      <td>0.08</td>\n",
       "      <td>47548.10000</td>\n",
       "      <td>3792.0900</td>\n",
       "    </tr>\n",
       "  </tbody>\n",
       "</table>\n",
       "<p>1287 rows × 6 columns</p>\n",
       "</div>"
      ],
      "text/plain": [
       "            date    LIBOR  eonia  fed_rate        btc_p      eth_p\n",
       "0     04/01/2016  0.37910 -0.335      0.37    426.57000     0.9600\n",
       "1     06/01/2016  0.38550 -0.333      0.37    431.32000     0.9426\n",
       "2     07/01/2016  0.40610 -0.321      0.41    429.99000     0.9500\n",
       "3     08/01/2016  0.41440 -0.330      0.40    457.88354     0.9400\n",
       "4     11/01/2016  0.43456 -0.348      0.41    449.13000     1.0000\n",
       "...          ...      ...    ...       ...          ...        ...\n",
       "1282  20/12/2021  0.07250 -0.491      0.08  46688.40000  3924.3700\n",
       "1283  21/12/2021  0.07288 -0.486      0.08  46898.10000  3941.8200\n",
       "1284  22/12/2021  0.07050 -0.489      0.08  48925.90000  4018.2000\n",
       "1285  23/12/2021  0.07513 -0.491      0.08  48624.90000  3980.4400\n",
       "1286  29/12/2021  0.07275 -0.493      0.08  47548.10000  3792.0900\n",
       "\n",
       "[1287 rows x 6 columns]"
      ]
     },
     "execution_count": 20,
     "metadata": {},
     "output_type": "execute_result"
    }
   ],
   "source": [
    "rates_df_"
   ]
  },
  {
   "cell_type": "code",
   "execution_count": 21,
   "id": "d6079c81",
   "metadata": {},
   "outputs": [],
   "source": [
    "# Set datetime index :\n",
    "rates_df_ = rates_df_.set_index('date')"
   ]
  },
  {
   "cell_type": "code",
   "execution_count": 22,
   "id": "462f606e",
   "metadata": {},
   "outputs": [
    {
     "data": {
      "text/html": [
       "<div>\n",
       "<style scoped>\n",
       "    .dataframe tbody tr th:only-of-type {\n",
       "        vertical-align: middle;\n",
       "    }\n",
       "\n",
       "    .dataframe tbody tr th {\n",
       "        vertical-align: top;\n",
       "    }\n",
       "\n",
       "    .dataframe thead th {\n",
       "        text-align: right;\n",
       "    }\n",
       "</style>\n",
       "<table border=\"1\" class=\"dataframe\">\n",
       "  <thead>\n",
       "    <tr style=\"text-align: right;\">\n",
       "      <th></th>\n",
       "      <th>LIBOR</th>\n",
       "      <th>eonia</th>\n",
       "      <th>fed_rate</th>\n",
       "      <th>btc_p</th>\n",
       "      <th>eth_p</th>\n",
       "    </tr>\n",
       "    <tr>\n",
       "      <th>date</th>\n",
       "      <th></th>\n",
       "      <th></th>\n",
       "      <th></th>\n",
       "      <th></th>\n",
       "      <th></th>\n",
       "    </tr>\n",
       "  </thead>\n",
       "  <tbody>\n",
       "    <tr>\n",
       "      <th>04/01/2016</th>\n",
       "      <td>0.37910</td>\n",
       "      <td>-0.335</td>\n",
       "      <td>0.37</td>\n",
       "      <td>426.57000</td>\n",
       "      <td>0.9600</td>\n",
       "    </tr>\n",
       "    <tr>\n",
       "      <th>06/01/2016</th>\n",
       "      <td>0.38550</td>\n",
       "      <td>-0.333</td>\n",
       "      <td>0.37</td>\n",
       "      <td>431.32000</td>\n",
       "      <td>0.9426</td>\n",
       "    </tr>\n",
       "    <tr>\n",
       "      <th>07/01/2016</th>\n",
       "      <td>0.40610</td>\n",
       "      <td>-0.321</td>\n",
       "      <td>0.41</td>\n",
       "      <td>429.99000</td>\n",
       "      <td>0.9500</td>\n",
       "    </tr>\n",
       "    <tr>\n",
       "      <th>08/01/2016</th>\n",
       "      <td>0.41440</td>\n",
       "      <td>-0.330</td>\n",
       "      <td>0.40</td>\n",
       "      <td>457.88354</td>\n",
       "      <td>0.9400</td>\n",
       "    </tr>\n",
       "    <tr>\n",
       "      <th>11/01/2016</th>\n",
       "      <td>0.43456</td>\n",
       "      <td>-0.348</td>\n",
       "      <td>0.41</td>\n",
       "      <td>449.13000</td>\n",
       "      <td>1.0000</td>\n",
       "    </tr>\n",
       "    <tr>\n",
       "      <th>...</th>\n",
       "      <td>...</td>\n",
       "      <td>...</td>\n",
       "      <td>...</td>\n",
       "      <td>...</td>\n",
       "      <td>...</td>\n",
       "    </tr>\n",
       "    <tr>\n",
       "      <th>20/12/2021</th>\n",
       "      <td>0.07250</td>\n",
       "      <td>-0.491</td>\n",
       "      <td>0.08</td>\n",
       "      <td>46688.40000</td>\n",
       "      <td>3924.3700</td>\n",
       "    </tr>\n",
       "    <tr>\n",
       "      <th>21/12/2021</th>\n",
       "      <td>0.07288</td>\n",
       "      <td>-0.486</td>\n",
       "      <td>0.08</td>\n",
       "      <td>46898.10000</td>\n",
       "      <td>3941.8200</td>\n",
       "    </tr>\n",
       "    <tr>\n",
       "      <th>22/12/2021</th>\n",
       "      <td>0.07050</td>\n",
       "      <td>-0.489</td>\n",
       "      <td>0.08</td>\n",
       "      <td>48925.90000</td>\n",
       "      <td>4018.2000</td>\n",
       "    </tr>\n",
       "    <tr>\n",
       "      <th>23/12/2021</th>\n",
       "      <td>0.07513</td>\n",
       "      <td>-0.491</td>\n",
       "      <td>0.08</td>\n",
       "      <td>48624.90000</td>\n",
       "      <td>3980.4400</td>\n",
       "    </tr>\n",
       "    <tr>\n",
       "      <th>29/12/2021</th>\n",
       "      <td>0.07275</td>\n",
       "      <td>-0.493</td>\n",
       "      <td>0.08</td>\n",
       "      <td>47548.10000</td>\n",
       "      <td>3792.0900</td>\n",
       "    </tr>\n",
       "  </tbody>\n",
       "</table>\n",
       "<p>1287 rows × 5 columns</p>\n",
       "</div>"
      ],
      "text/plain": [
       "              LIBOR  eonia  fed_rate        btc_p      eth_p\n",
       "date                                                        \n",
       "04/01/2016  0.37910 -0.335      0.37    426.57000     0.9600\n",
       "06/01/2016  0.38550 -0.333      0.37    431.32000     0.9426\n",
       "07/01/2016  0.40610 -0.321      0.41    429.99000     0.9500\n",
       "08/01/2016  0.41440 -0.330      0.40    457.88354     0.9400\n",
       "11/01/2016  0.43456 -0.348      0.41    449.13000     1.0000\n",
       "...             ...    ...       ...          ...        ...\n",
       "20/12/2021  0.07250 -0.491      0.08  46688.40000  3924.3700\n",
       "21/12/2021  0.07288 -0.486      0.08  46898.10000  3941.8200\n",
       "22/12/2021  0.07050 -0.489      0.08  48925.90000  4018.2000\n",
       "23/12/2021  0.07513 -0.491      0.08  48624.90000  3980.4400\n",
       "29/12/2021  0.07275 -0.493      0.08  47548.10000  3792.0900\n",
       "\n",
       "[1287 rows x 5 columns]"
      ]
     },
     "execution_count": 22,
     "metadata": {},
     "output_type": "execute_result"
    }
   ],
   "source": [
    "rates_df_ "
   ]
  },
  {
   "cell_type": "markdown",
   "id": "c229fec0",
   "metadata": {},
   "source": [
    "# DESCRIPTIVE ANALYSIS "
   ]
  },
  {
   "cell_type": "markdown",
   "id": "91b90a03",
   "metadata": {},
   "source": [
    "CURRENCY PRICES (in $) Vs CRYPTO PRICES"
   ]
  },
  {
   "cell_type": "code",
   "execution_count": 98,
   "id": "4933b44f",
   "metadata": {},
   "outputs": [],
   "source": [
    "rates_df_ \n"
   ]
  },
  {
   "cell_type": "code",
   "execution_count": 23,
   "id": "6f0ec552",
   "metadata": {},
   "outputs": [
    {
     "data": {
      "image/png": "[encoded data removed]",
      "text/plain": [
       "<Figure size 432x288 with 2 Axes>"
      ]
     },
     "metadata": {
      "needs_background": "light"
     },
     "output_type": "display_data"
    }
   ],
   "source": [
    "#Check multicolinearity:\n",
    "correlations_matrix = rates_df_.corr()\n",
    "correlations_matrix\n",
    "\n",
    "sns.heatmap(correlations_matrix, annot=True)\n",
    "plt.show()"
   ]
  },
  {
   "cell_type": "markdown",
   "id": "1751391a",
   "metadata": {},
   "source": [
    "# ANALYSIS Interest Rates Vs BTC"
   ]
  },
  {
   "cell_type": "code",
   "execution_count": 55,
   "id": "8d157510",
   "metadata": {},
   "outputs": [
    {
     "data": {
      "image/png": "[encoded data removed]",
      "text/plain": [
       "<Figure size 432x288 with 1 Axes>"
      ]
     },
     "metadata": {
      "needs_background": "light"
     },
     "output_type": "display_data"
    },
    {
     "data": {
      "image/png": "[encoded data removed]",
      "text/plain": [
       "<Figure size 432x288 with 1 Axes>"
      ]
     },
     "metadata": {
      "needs_background": "light"
     },
     "output_type": "display_data"
    },
    {
     "data": {
      "image/png": "[encoded data removed]",
      "text/plain": [
       "<Figure size 432x288 with 1 Axes>"
      ]
     },
     "metadata": {
      "needs_background": "light"
     },
     "output_type": "display_data"
    }
   ],
   "source": [
    "# # Let's plot the features to visually inspect them.\n",
    "# Scatter plots\n",
    "\n",
    "######### Vs BTC #############\n",
    "plt.scatter(x=rates_df_['LIBOR'], y=rates_df_['btc_p'])\n",
    "plt.title(\"LIB/BTC\")\n",
    "plt.show()\n",
    "plt.scatter(x=rates_df_['eonia'], y=rates_df_['btc_p'])\n",
    "plt.title(\"EON/BTC\")\n",
    "plt.show()\n",
    "plt.scatter(x=rates_df_['fed_rate'], y=rates_df_['btc_p'])\n",
    "plt.title(\"FED/BTC\")\n",
    "plt.show()"
   ]
  },
  {
   "cell_type": "code",
   "execution_count": 105,
   "id": "031bdeca",
   "metadata": {},
   "outputs": [],
   "source": [
    "# X/Y split \n",
    "y_btc = rates_df_['btc_p']\n",
    "X_btc = rates_df_.drop(['btc_p', \"eth_p\"], axis=1)\n",
    "# Train/Test split\n",
    "X_btc_train, X_btc_test, y_btc_train, y_btc_test = train_test_split(X_btc, y_btc,test_size=0.2)\n",
    "# # Time series Train. test split\n",
    "# X_btc_train, X_btc_test = X_btc[:-50], X_btc[-50:]\n",
    "# y_btc_train, y_btc_test = y_btc[:-50], y_btc[-50:]"
   ]
  },
  {
   "cell_type": "markdown",
   "id": "4bf29654",
   "metadata": {},
   "source": [
    "LINEAR REGRESSION"
   ]
  },
  {
   "cell_type": "code",
   "execution_count": 106,
   "id": "9973f713",
   "metadata": {},
   "outputs": [
    {
     "name": "stdout",
     "output_type": "stream",
     "text": [
      "R2-score is: 0.5166033755046859\n",
      "MSE is : 94555269.08232574\n"
     ]
    }
   ],
   "source": [
    "lm = linear_model.LinearRegression()\n",
    "lm.fit(X_btc_train,y_btc_train)\n",
    "y_pred=lm.predict(X_btc_test)\n",
    "print(\"R2-score is:\",lm.score(X_btc_train,y_btc_train))\n",
    "print(\"MSE is :\",mean_squared_error(y_pred,y_btc_test))\n",
    "\n",
    "# Normal Train Test split\n",
    "# #  R2-score is: 0.5264976642399185\n",
    "# #  MSE is : 111681340.56965812\n",
    "# Not extremely good model \n",
    "\n",
    "# Time Series Train Test split\n",
    "# #  R2-score is: 0.4804258328184856\n",
    "# # MSE is : 922152612.2864013\n",
    "# Not extremely good model "
   ]
  },
  {
   "cell_type": "markdown",
   "id": "5b1b07e2",
   "metadata": {},
   "source": [
    "KNN "
   ]
  },
  {
   "cell_type": "code",
   "execution_count": 104,
   "id": "e1f393fc",
   "metadata": {},
   "outputs": [
    {
     "name": "stdout",
     "output_type": "stream",
     "text": [
      "KNN score is: -4.106361368497492\n",
      "MSE is : 205797203.61444762\n"
     ]
    }
   ],
   "source": [
    "# KNN \n",
    "# 16 neighbors throws the best result \n",
    "\n",
    "KNN = KNeighborsRegressor(n_neighbors=16)\n",
    "KNN.fit(X_btc_train, y_btc_train)\n",
    "pred_knn = (KNN.predict(X_btc_test))\n",
    "score = KNN.score(X_btc_test, y_btc_test)\n",
    "print('KNN score is:', score)\n",
    "print(\"MSE is :\",mean_squared_error(KNN.predict(X_btc_test),y_btc_test))\n",
    "\n",
    "# Normal Train Test split\n",
    "# print(pred_knn)\n",
    "# KNN score is: 0.9024256368457877\n",
    "# MSE is : 22011308.339447465\n",
    "# The result is very good,....does it really make sense being a timeseries ???\n",
    "\n",
    "# Time Series Train Test split\n",
    "# KNN score is: -4.106361368497492\n",
    "# MSE is : 205797203.61444762"
   ]
  },
  {
   "cell_type": "markdown",
   "id": "907e30e6",
   "metadata": {},
   "source": [
    "# ANALYSIS Interest Rates Vs ETH"
   ]
  },
  {
   "cell_type": "code",
   "execution_count": 65,
   "id": "ecd85f8f",
   "metadata": {},
   "outputs": [
    {
     "data": {
      "image/png": "[encoded data removed]",
      "text/plain": [
       "<Figure size 432x288 with 1 Axes>"
      ]
     },
     "metadata": {
      "needs_background": "light"
     },
     "output_type": "display_data"
    },
    {
     "data": {
      "image/png": "[encoded data removed]",
      "text/plain": [
       "<Figure size 432x288 with 1 Axes>"
      ]
     },
     "metadata": {
      "needs_background": "light"
     },
     "output_type": "display_data"
    },
    {
     "data": {
      "image/png": "[encoded data removed]",
      "text/plain": [
       "<Figure size 432x288 with 1 Axes>"
      ]
     },
     "metadata": {
      "needs_background": "light"
     },
     "output_type": "display_data"
    }
   ],
   "source": [
    "# Let's plot the features to visually inspect them.\n",
    "# Scatter plots\n",
    "\n",
    "######### Vs ETH #############\n",
    "\n",
    "plt.scatter(x=rates_df_['LIBOR'], y=rates_df_['eth_p'])\n",
    "plt.title(\"LIB/ETH\")\n",
    "plt.show()\n",
    "plt.scatter(x=rates_df_['eonia'], y=rates_df_['eth_p'])\n",
    "plt.title(\"EON/ETH\")\n",
    "plt.show()\n",
    "plt.scatter(x=rates_df_['fed_rate'], y=rates_df_['eth_p'])\n",
    "plt.title(\"FED/ETH\")\n",
    "plt.show()\n"
   ]
  },
  {
   "cell_type": "code",
   "execution_count": 119,
   "id": "f46d43cb",
   "metadata": {},
   "outputs": [],
   "source": [
    "# X/Y split \n",
    "y_eth = rates_df_['eth_p']\n",
    "X_eth = rates_df_.drop(['btc_p', \"eth_p\"], axis=1)\n",
    "\n",
    "# Train/Test split\n",
    "X_eth_train, X_eth_test, y_eth_train, y_eth_test = train_test_split(X_eth, y_eth,test_size=0.2)\n",
    "\n",
    "# # Time series Train. test split\n",
    "# X_eth_train, X_eth_test = X_eth[:-50], X_eth[-50:]\n",
    "# y_eth_train, y_eth_test = y_eth[:-50], y_eth[-50:]"
   ]
  },
  {
   "cell_type": "markdown",
   "id": "657aad13",
   "metadata": {},
   "source": [
    "LINEAR REGRESSION"
   ]
  },
  {
   "cell_type": "code",
   "execution_count": 117,
   "id": "f86bec2c",
   "metadata": {},
   "outputs": [
    {
     "name": "stdout",
     "output_type": "stream",
     "text": [
      "R2-score is: 0.5166033755046859\n",
      "MSE is : 94555269.08232574\n"
     ]
    }
   ],
   "source": [
    "lm = linear_model.LinearRegression()\n",
    "lm.fit(X_btc_train,y_btc_train)\n",
    "y_pred=lm.predict(X_btc_test)\n",
    "print(\"R2-score is:\",lm.score(X_btc_train,y_btc_train))\n",
    "print(\"MSE is :\",mean_squared_error(y_pred,y_btc_test))\n",
    "\n",
    "# Normal Train Test split\n",
    "# #  R2-score is: 0.5108342034799391\n",
    "# #  MSE is : 139467099.9510077\n",
    "# Not extremely good model \n",
    "\n",
    "# Time series Train Test split \n",
    "# R2-score is: 0.5166033755046859\n",
    "# MSE is : 94555269.08232574"
   ]
  },
  {
   "cell_type": "markdown",
   "id": "a62e75cf",
   "metadata": {},
   "source": [
    "KNN"
   ]
  },
  {
   "cell_type": "code",
   "execution_count": 118,
   "id": "65a2b031",
   "metadata": {},
   "outputs": [
    {
     "name": "stdout",
     "output_type": "stream",
     "text": [
      "KNN score is: -13.582910852414855\n",
      "MSE is : 2384237.55690075\n"
     ]
    }
   ],
   "source": [
    "# KNN \n",
    "# 8 neighbors throws the best result \n",
    "\n",
    "KNN = KNeighborsRegressor(n_neighbors=8)\n",
    "KNN.fit(X_eth_train, y_eth_train)\n",
    "pred_knn = (KNN.predict(X_eth_test))\n",
    "score = KNN.score(X_eth_test, y_eth_test)\n",
    "print('KNN score is:', score)\n",
    "print(\"MSE is :\",mean_squared_error(KNN.predict(X_eth_test),y_eth_test))\n",
    "# print(pred_knn)\n",
    "\n",
    "# Normal Train Test split\n",
    "# # KNN score is: 0.9007957942522475\n",
    "# # MSE is : 110156.5688880342\n",
    "# The result is very good,....does it really make sense being a timeseries ???\n",
    "\n",
    "# Time series Train Test split \n",
    "# KNN score is: -13.582910852414855\n",
    "# MSE is : 2384237.556900751\n"
   ]
  },
  {
   "cell_type": "code",
   "execution_count": null,
   "id": "ecfab7e7",
   "metadata": {},
   "outputs": [],
   "source": []
  },
  {
   "cell_type": "code",
   "execution_count": null,
   "id": "f01a068a",
   "metadata": {},
   "outputs": [],
   "source": []
  },
  {
   "cell_type": "code",
   "execution_count": null,
   "id": "0b96e822",
   "metadata": {},
   "outputs": [],
   "source": []
  },
  {
   "cell_type": "code",
   "execution_count": null,
   "id": "ea855552",
   "metadata": {},
   "outputs": [],
   "source": []
  },
  {
   "cell_type": "code",
   "execution_count": null,
   "id": "6d9dd3a5",
   "metadata": {},
   "outputs": [],
   "source": []
  },
  {
   "cell_type": "code",
   "execution_count": null,
   "id": "33dededc",
   "metadata": {},
   "outputs": [],
   "source": []
  },
  {
   "cell_type": "code",
   "execution_count": null,
   "id": "06d8436d",
   "metadata": {},
   "outputs": [],
   "source": []
  },
  {
   "cell_type": "code",
   "execution_count": null,
   "id": "f6158a83",
   "metadata": {},
   "outputs": [],
   "source": []
  },
  {
   "cell_type": "code",
   "execution_count": null,
   "id": "73eb5d2f",
   "metadata": {},
   "outputs": [],
   "source": []
  },
  {
   "cell_type": "code",
   "execution_count": null,
   "id": "4549c414",
   "metadata": {},
   "outputs": [],
   "source": []
  },
  {
   "cell_type": "code",
   "execution_count": null,
   "id": "2af129d6",
   "metadata": {},
   "outputs": [],
   "source": []
  },
  {
   "cell_type": "code",
   "execution_count": null,
   "id": "332b0cf3",
   "metadata": {},
   "outputs": [],
   "source": []
  },
  {
   "cell_type": "code",
   "execution_count": null,
   "id": "5b585345",
   "metadata": {},
   "outputs": [],
   "source": []
  },
  {
   "cell_type": "code",
   "execution_count": null,
   "id": "5a38ae09",
   "metadata": {},
   "outputs": [],
   "source": []
  },
  {
   "cell_type": "code",
   "execution_count": null,
   "id": "39e2cd51",
   "metadata": {},
   "outputs": [],
   "source": []
  },
  {
   "cell_type": "code",
   "execution_count": null,
   "id": "fee69839",
   "metadata": {},
   "outputs": [],
   "source": []
  },
  {
   "cell_type": "code",
   "execution_count": 56,
   "id": "0a081b30",
   "metadata": {},
   "outputs": [],
   "source": [
    "!git add ."
   ]
  },
  {
   "cell_type": "code",
   "execution_count": 57,
   "id": "48413a29",
   "metadata": {},
   "outputs": [
    {
     "name": "stdout",
     "output_type": "stream",
     "text": [
      "[main 23a9aab] all data ready to start analysis\r\n",
      " 2 files changed, 2317 insertions(+), 11 deletions(-)\r\n",
      " create mode 100644 code/.ipynb_checkpoints/data_analysis-checkpoint.ipynb\r\n"
     ]
    }
   ],
   "source": [
    "! git commit -m'all data ready to start analysis'"
   ]
  },
  {
   "cell_type": "code",
   "execution_count": 58,
   "id": "1239f745",
   "metadata": {},
   "outputs": [
    {
     "name": "stdout",
     "output_type": "stream",
     "text": [
      "Enumerating objects: 7, done.\n",
      "Counting objects: 100% (7/7), done.\n",
      "Delta compression using up to 4 threads\n",
      "Compressing objects: 100% (5/5), done.\n",
      "Writing objects: 100% (5/5), 450.57 KiB | 7.15 MiB/s, done.\n",
      "Total 5 (delta 1), reused 0 (delta 0), pack-reused 0\n",
      "remote: Resolving deltas: 100% (1/1), completed with 1 local object.\u001b[K\n",
      "To https://github.com/chrislacarte/crypto_analysis\n",
      "   2abf036..23a9aab  main -> main\n"
     ]
    }
   ],
   "source": [
    "! git push"
   ]
  },
  {
   "cell_type": "code",
   "execution_count": null,
   "id": "4ee8bdef",
   "metadata": {},
   "outputs": [],
   "source": []
  }
 ],
 "metadata": {
  "kernelspec": {
   "display_name": "Python 3 (ipykernel)",
   "language": "python",
   "name": "python3"
  },
  "language_info": {
   "codemirror_mode": {
    "name": "ipython",
    "version": 3
   },
   "file_extension": ".py",
   "mimetype": "text/x-python",
   "name": "python",
   "nbconvert_exporter": "python",
   "pygments_lexer": "ipython3",
   "version": "3.9.7"
  }
 },
 "nbformat": 4,
 "nbformat_minor": 5
}
