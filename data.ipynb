{
 "cells": [
  {
   "cell_type": "markdown",
   "id": "b28abc29",
   "metadata": {},
   "source": [
    "# API data pulling "
   ]
  },
  {
   "cell_type": "code",
   "execution_count": 32,
   "id": "afe36cc1",
   "metadata": {},
   "outputs": [],
   "source": [
    "import requests\n",
    "import pandas as pd\n",
    "import numpy as np\n",
    "import time \n",
    "import json"
   ]
  },
  {
   "cell_type": "code",
   "execution_count": 33,
   "id": "aa0991a0",
   "metadata": {},
   "outputs": [],
   "source": [
    "BTC = requests.get(\"https://api.cryptowat.ch/markets/kraken/btcusd/ohlc?periods=86400&apikey=XVGSK3GTQSR4WA9W8XY7\")\n",
    "LTC = requests.get(\"https://api.cryptowat.ch/markets/kraken/ltcusd/ohlc?periods=86400&apikey=XVGSK3GTQSR4WA9W8XY7\")\n",
    "ETH = requests.get(\"https://api.cryptowat.ch/markets/kraken/ethusd/ohlc?periods=86400&apikey=XVGSK3GTQSR4WA9W8XY7\") \n",
    "XRP = requests.get(\"https://api.cryptowat.ch/markets/kraken/xrpusd/ohlc?periods=86400&apikey=XVGSK3GTQSR4WA9W8XY7\") \n",
    "DOGE = requests.get(\"https://api.cryptowat.ch/markets/kraken/dogeusd/ohlc?periods=86400&apikey=XVGSK3GTQSR4WA9W8XY7\") "
   ]
  },
  {
   "cell_type": "code",
   "execution_count": 34,
   "id": "d0c86626",
   "metadata": {},
   "outputs": [],
   "source": [
    "def clean_api_request(req):\n",
    "    req = req.json()\n",
    "    # Convert jsonized lists to DF \n",
    "    req = pd.DataFrame(req['result']['86400'])\n",
    "    # Rename DF columns \n",
    "    req.columns = ['date', 'open_price', 'hi_price', 'lo_price', 'close_price', 'vol', 'quote_vol']\n",
    "    # Select only date and closing value \n",
    "    req = req[['date','close_price']]\n",
    "    # Convert Epoch time (secs since 1970) into datetime object\n",
    "    req['date'] = pd.to_datetime(req['date'], unit='s')\n",
    "    #Select date range from 2016 - 2021\n",
    "    req = (req.loc[req[\"date\"].between(\"2016-01-01\", \"2021-12-31\")]).reset_index(drop=True)\n",
    "    return req"
   ]
  },
  {
   "cell_type": "markdown",
   "id": "43d97fbf",
   "metadata": {},
   "source": [
    "XRP and Doge are missing some historiucal data when pulling the API data, there are no records there before 2017, may be becayse the value for those crypto  was too low.\n",
    "\n",
    "XRP had only 1687 rows (days of trade, so missing before 2017ish) \n",
    "\n",
    "DOGE has onlky 743 rows \n",
    "\n",
    "I found historical for those 2 cryptos in Kaggle. \n",
    "https://www.kaggle.com/datasets/sudalairajkumar/cryptocurrencypricehistory?resource=download&select=coin_XRP.csv"
   ]
  },
  {
   "cell_type": "code",
   "execution_count": 35,
   "id": "cc1c9ccf",
   "metadata": {},
   "outputs": [],
   "source": [
    "BTC = clean_api_request(BTC)\n",
    "LTC = clean_api_request(LTC)\n",
    "ETH = clean_api_request(ETH)\n",
    "#XRP and DPOGE data pulled from Kaggle \n",
    "XRP = pd.read_csv(\"../data/XRP_p_16-21.csv\")\n",
    "DOGE = pd.read_csv(\"../data/dogecoin_p_16_21.csv\")"
   ]
  },
  {
   "cell_type": "code",
   "execution_count": 54,
   "id": "1cf1f67f",
   "metadata": {},
   "outputs": [],
   "source": [
    "BTC = BTC.rename(columns={\"close_price\": \"btc_p\"})\n",
    "LTC = LTC.rename(columns={\"close_price\": \"ltc_p\"})\n",
    "ETH = ETH.rename(columns={\"close_price\": \"eth_p\"})"
   ]
  },
  {
   "cell_type": "code",
   "execution_count": 53,
   "id": "1435c493",
   "metadata": {},
   "outputs": [
    {
     "data": {
      "text/html": [
       "<div>\n",
       "<style scoped>\n",
       "    .dataframe tbody tr th:only-of-type {\n",
       "        vertical-align: middle;\n",
       "    }\n",
       "\n",
       "    .dataframe tbody tr th {\n",
       "        vertical-align: top;\n",
       "    }\n",
       "\n",
       "    .dataframe thead th {\n",
       "        text-align: right;\n",
       "    }\n",
       "</style>\n",
       "<table border=\"1\" class=\"dataframe\">\n",
       "  <thead>\n",
       "    <tr style=\"text-align: right;\">\n",
       "      <th></th>\n",
       "      <th>Date</th>\n",
       "      <th>xrp_p</th>\n",
       "    </tr>\n",
       "  </thead>\n",
       "  <tbody>\n",
       "    <tr>\n",
       "      <th>0</th>\n",
       "      <td>01/01/2016 23:59</td>\n",
       "      <td>0.005955</td>\n",
       "    </tr>\n",
       "    <tr>\n",
       "      <th>1</th>\n",
       "      <td>02/01/2016 23:59</td>\n",
       "      <td>0.006065</td>\n",
       "    </tr>\n",
       "    <tr>\n",
       "      <th>2</th>\n",
       "      <td>03/01/2016 23:59</td>\n",
       "      <td>0.006017</td>\n",
       "    </tr>\n",
       "    <tr>\n",
       "      <th>3</th>\n",
       "      <td>04/01/2016 23:59</td>\n",
       "      <td>0.005958</td>\n",
       "    </tr>\n",
       "    <tr>\n",
       "      <th>4</th>\n",
       "      <td>05/01/2016 23:59</td>\n",
       "      <td>0.006044</td>\n",
       "    </tr>\n",
       "    <tr>\n",
       "      <th>...</th>\n",
       "      <td>...</td>\n",
       "      <td>...</td>\n",
       "    </tr>\n",
       "    <tr>\n",
       "      <th>2187</th>\n",
       "      <td>27/12/2021 23:59</td>\n",
       "      <td>0.926184</td>\n",
       "    </tr>\n",
       "    <tr>\n",
       "      <th>2188</th>\n",
       "      <td>28/12/2021 23:59</td>\n",
       "      <td>0.852960</td>\n",
       "    </tr>\n",
       "    <tr>\n",
       "      <th>2189</th>\n",
       "      <td>29/12/2021 23:59</td>\n",
       "      <td>0.816714</td>\n",
       "    </tr>\n",
       "    <tr>\n",
       "      <th>2190</th>\n",
       "      <td>30/12/2021 23:59</td>\n",
       "      <td>0.839649</td>\n",
       "    </tr>\n",
       "    <tr>\n",
       "      <th>2191</th>\n",
       "      <td>31/12/2021 23:59</td>\n",
       "      <td>0.831163</td>\n",
       "    </tr>\n",
       "  </tbody>\n",
       "</table>\n",
       "<p>2192 rows × 2 columns</p>\n",
       "</div>"
      ],
      "text/plain": [
       "                  Date     xrp_p\n",
       "0     01/01/2016 23:59  0.005955\n",
       "1     02/01/2016 23:59  0.006065\n",
       "2     03/01/2016 23:59  0.006017\n",
       "3     04/01/2016 23:59  0.005958\n",
       "4     05/01/2016 23:59  0.006044\n",
       "...                ...       ...\n",
       "2187  27/12/2021 23:59  0.926184\n",
       "2188  28/12/2021 23:59  0.852960\n",
       "2189  29/12/2021 23:59  0.816714\n",
       "2190  30/12/2021 23:59  0.839649\n",
       "2191  31/12/2021 23:59  0.831163\n",
       "\n",
       "[2192 rows x 2 columns]"
      ]
     },
     "execution_count": 53,
     "metadata": {},
     "output_type": "execute_result"
    }
   ],
   "source": [
    "XRP"
   ]
  },
  {
   "cell_type": "code",
   "execution_count": 45,
   "id": "afa07e52",
   "metadata": {},
   "outputs": [
    {
     "data": {
      "text/html": [
       "<div>\n",
       "<style scoped>\n",
       "    .dataframe tbody tr th:only-of-type {\n",
       "        vertical-align: middle;\n",
       "    }\n",
       "\n",
       "    .dataframe tbody tr th {\n",
       "        vertical-align: top;\n",
       "    }\n",
       "\n",
       "    .dataframe thead th {\n",
       "        text-align: right;\n",
       "    }\n",
       "</style>\n",
       "<table border=\"1\" class=\"dataframe\">\n",
       "  <thead>\n",
       "    <tr style=\"text-align: right;\">\n",
       "      <th></th>\n",
       "      <th>Date</th>\n",
       "      <th>doge_p</th>\n",
       "    </tr>\n",
       "  </thead>\n",
       "  <tbody>\n",
       "    <tr>\n",
       "      <th>0</th>\n",
       "      <td>01/01/2016 23:59</td>\n",
       "      <td>0.000154</td>\n",
       "    </tr>\n",
       "    <tr>\n",
       "      <th>1</th>\n",
       "      <td>02/01/2016 23:59</td>\n",
       "      <td>0.000151</td>\n",
       "    </tr>\n",
       "    <tr>\n",
       "      <th>2</th>\n",
       "      <td>03/01/2016 23:59</td>\n",
       "      <td>0.000146</td>\n",
       "    </tr>\n",
       "    <tr>\n",
       "      <th>3</th>\n",
       "      <td>04/01/2016 23:59</td>\n",
       "      <td>0.000144</td>\n",
       "    </tr>\n",
       "    <tr>\n",
       "      <th>4</th>\n",
       "      <td>05/01/2016 23:59</td>\n",
       "      <td>0.000137</td>\n",
       "    </tr>\n",
       "    <tr>\n",
       "      <th>...</th>\n",
       "      <td>...</td>\n",
       "      <td>...</td>\n",
       "    </tr>\n",
       "    <tr>\n",
       "      <th>2187</th>\n",
       "      <td>27/12/2021 23:59</td>\n",
       "      <td>0.926184</td>\n",
       "    </tr>\n",
       "    <tr>\n",
       "      <th>2188</th>\n",
       "      <td>28/12/2021 23:59</td>\n",
       "      <td>0.852960</td>\n",
       "    </tr>\n",
       "    <tr>\n",
       "      <th>2189</th>\n",
       "      <td>29/12/2021 23:59</td>\n",
       "      <td>0.816714</td>\n",
       "    </tr>\n",
       "    <tr>\n",
       "      <th>2190</th>\n",
       "      <td>30/12/2021 23:59</td>\n",
       "      <td>0.839649</td>\n",
       "    </tr>\n",
       "    <tr>\n",
       "      <th>2191</th>\n",
       "      <td>31/12/2021 23:59</td>\n",
       "      <td>0.831163</td>\n",
       "    </tr>\n",
       "  </tbody>\n",
       "</table>\n",
       "<p>2192 rows × 2 columns</p>\n",
       "</div>"
      ],
      "text/plain": [
       "                  Date    doge_p\n",
       "0     01/01/2016 23:59  0.000154\n",
       "1     02/01/2016 23:59  0.000151\n",
       "2     03/01/2016 23:59  0.000146\n",
       "3     04/01/2016 23:59  0.000144\n",
       "4     05/01/2016 23:59  0.000137\n",
       "...                ...       ...\n",
       "2187  27/12/2021 23:59  0.926184\n",
       "2188  28/12/2021 23:59  0.852960\n",
       "2189  29/12/2021 23:59  0.816714\n",
       "2190  30/12/2021 23:59  0.839649\n",
       "2191  31/12/2021 23:59  0.831163\n",
       "\n",
       "[2192 rows x 2 columns]"
      ]
     },
     "execution_count": 45,
     "metadata": {},
     "output_type": "execute_result"
    }
   ],
   "source": [
    "DOGE"
   ]
  },
  {
   "cell_type": "code",
   "execution_count": 41,
   "id": "f2a6d493",
   "metadata": {},
   "outputs": [],
   "source": [
    "BTC.to_csv(\"../final_data/btc.csv\")\n",
    "LTC.to_csv(\"../final_data/ltc.csv\")\n",
    "ETH.to_csv(\"../final_data/eth.csv\")\n",
    "XRP.to_csv(\"../final_data/xrp.csv\")\n",
    "DOGE.to_csv(\"../final_data/doge.csv\")"
   ]
  },
  {
   "cell_type": "code",
   "execution_count": 42,
   "id": "e0a0a7fb",
   "metadata": {},
   "outputs": [],
   "source": [
    "!git add . "
   ]
  },
  {
   "cell_type": "code",
   "execution_count": 43,
   "id": "85d8268f",
   "metadata": {},
   "outputs": [
    {
     "name": "stdout",
     "output_type": "stream",
     "text": [
      "[main d3fc975] in progress\r\n",
      " 4 files changed, 2761 insertions(+), 4830 deletions(-)\r\n",
      " copy data.ipynb => .ipynb_checkpoints/data-checkpoint.ipynb (98%)\r\n",
      " create mode 100644 .ipynb_checkpoints/data_sourcing-checkpoint.ipynb\r\n",
      " rewrite data.ipynb (65%)\r\n",
      " rewrite data_sourcing.ipynb (85%)\r\n"
     ]
    }
   ],
   "source": [
    "!git commit -m'in progress'"
   ]
  },
  {
   "cell_type": "code",
   "execution_count": 44,
   "id": "934e4d8a",
   "metadata": {},
   "outputs": [
    {
     "name": "stdout",
     "output_type": "stream",
     "text": [
      "Enumerating objects: 10, done.\n",
      "Counting objects: 100% (10/10), done.\n",
      "Delta compression using up to 4 threads\n",
      "Compressing objects: 100% (7/7), done.\n",
      "Writing objects: 100% (7/7), 14.67 KiB | 2.44 MiB/s, done.\n",
      "Total 7 (delta 3), reused 0 (delta 0), pack-reused 0\n",
      "remote: Resolving deltas: 100% (3/3), done.\u001b[K\n",
      "To https://github.com/chrislacarte/crypto_analysis\n",
      "   2ddc1fa..d3fc975  main -> main\n"
     ]
    }
   ],
   "source": [
    "!git push"
   ]
  },
  {
   "cell_type": "code",
   "execution_count": null,
   "id": "5ce39e97",
   "metadata": {},
   "outputs": [],
   "source": []
  }
 ],
 "metadata": {
  "kernelspec": {
   "display_name": "Python 3 (ipykernel)",
   "language": "python",
   "name": "python3"
  },
  "language_info": {
   "codemirror_mode": {
    "name": "ipython",
    "version": 3
   },
   "file_extension": ".py",
   "mimetype": "text/x-python",
   "name": "python",
   "nbconvert_exporter": "python",
   "pygments_lexer": "ipython3",
   "version": "3.9.7"
  }
 },
 "nbformat": 4,
 "nbformat_minor": 5
}
